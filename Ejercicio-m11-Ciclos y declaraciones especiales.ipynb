{
 "cells": [
  {
   "cell_type": "code",
   "execution_count": null,
   "id": "853527bd-72d3-40e1-87b3-3f3403814e5c",
   "metadata": {},
   "outputs": [
    {
     "name": "stdout",
     "output_type": "stream",
     "text": [
      "01:29\r"
     ]
    }
   ],
   "source": [
    "import time\n",
    "\n",
    "def countup(time_sec):\n",
    "    current_time = 0\n",
    "    while current_time <= time_sec:\n",
    "        mins, secs = divmod(current_time, 60)\n",
    "        timeformat = '{:02d}:{:02d}'.format(mins, secs)\n",
    "        print(timeformat, end='\\r')\n",
    "        time.sleep(1)\n",
    "        current_time += 1\n",
    "    print(\"stop\")\n",
    "\n",
    "# Ejemplo de uso\n",
    "countup(90)"
   ]
  }
 ],
 "metadata": {
  "kernelspec": {
   "display_name": "Python 3 (ipykernel)",
   "language": "python",
   "name": "python3"
  },
  "language_info": {
   "codemirror_mode": {
    "name": "ipython",
    "version": 3
   },
   "file_extension": ".py",
   "mimetype": "text/x-python",
   "name": "python",
   "nbconvert_exporter": "python",
   "pygments_lexer": "ipython3",
   "version": "3.12.0"
  }
 },
 "nbformat": 4,
 "nbformat_minor": 5
}
