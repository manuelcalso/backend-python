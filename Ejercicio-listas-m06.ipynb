{
 "cells": [
  {
   "cell_type": "code",
   "execution_count": 4,
   "id": "86846c20-e25b-48cc-b7d0-40e7b290aa26",
   "metadata": {},
   "outputs": [
    {
     "name": "stdout",
     "output_type": "stream",
     "text": [
      "Carrito de compras\n",
      "\n",
      "Productos Disponibles:\n",
      "1.- Pan\n",
      "2.- Jamón\n",
      "3.- Crema\n",
      "4.- Mayonesa\n",
      "5.- Lechuga\n",
      "6.- Tomate\n",
      "7.- Queso\n",
      "8.- Refresco\n"
     ]
    },
    {
     "data": {
      "application/vnd.jupyter.widget-view+json": {
       "model_id": "323129d9f1264da096abe340e75d54c0",
       "version_major": 2,
       "version_minor": 0
      },
      "text/plain": [
       "Textarea(value='', layout=Layout(height='80px', width='50%'), placeholder='Ingresa una lista con los productos…"
      ]
     },
     "metadata": {},
     "output_type": "display_data"
    },
    {
     "data": {
      "application/vnd.jupyter.widget-view+json": {
       "model_id": "425764a72a8d4faaa5327f0fad8592a8",
       "version_major": 2,
       "version_minor": 0
      },
      "text/plain": [
       "Button(description='Agregar al carrito', style=ButtonStyle())"
      ]
     },
     "metadata": {},
     "output_type": "display_data"
    },
    {
     "data": {
      "application/vnd.jupyter.widget-view+json": {
       "model_id": "773ce89dcbec41ebac05e4220540c57c",
       "version_major": 2,
       "version_minor": 0
      },
      "text/plain": [
       "Output()"
      ]
     },
     "metadata": {},
     "output_type": "display_data"
    }
   ],
   "source": [
    "import ipywidgets as widgets\n",
    "from IPython.display import display\n",
    "\n",
    "def show_cart(cart):\n",
    "    print(\"\\n\\nTu carrito es:\")\n",
    "    if isinstance(cart, list) and all(isinstance(item, list) and len(item) == 2 for item in cart):\n",
    "        for quantity, product_id in cart:\n",
    "            product_name = productos_disponibles.get(product_id, \"Producto no válido\")\n",
    "            print(f\"{quantity} {product_name}\")\n",
    "    else:\n",
    "        print(\"Formato incorrecto, debes ingresar una lista de listas\")\n",
    "\n",
    "productos_disponibles = {\n",
    "    1: \"Pan\",\n",
    "    2: \"Jamón\",\n",
    "    3: \"Crema\",\n",
    "    4: \"Mayonesa\",\n",
    "    5: \"Lechuga\",\n",
    "    6: \"Tomate\",\n",
    "    7: \"Queso\",\n",
    "    8: \"Refresco\"\n",
    "}\n",
    "\n",
    "print(\"Carrito de compras\\n\")\n",
    "print(\"Productos Disponibles:\")\n",
    "for id, name in productos_disponibles.items():\n",
    "    print(f\"{id}.- {name}\")\n",
    "\n",
    "cart_input = widgets.Textarea(\n",
    "    placeholder=\"Ingresa una lista con los productos en este formato: [[Cantidad, Numero de lista del Producto]]\",\n",
    "    layout=widgets.Layout(width='50%', height='80px')\n",
    ")\n",
    "\n",
    "button = widgets.Button(description=\"Agregar al carrito\")\n",
    "\n",
    "output = widgets.Output()\n",
    "\n",
    "def on_button_clicked(b):\n",
    "    with output:\n",
    "        output.clear_output()\n",
    "        try:\n",
    "            cart = eval(cart_input.value)\n",
    "            show_cart(cart)\n",
    "        except Exception as e:\n",
    "            print(\"Error en la entrada de datos. Asegúrate de ingresar una lista válida.\")\n",
    "\n",
    "button.on_click(on_button_clicked)\n",
    "\n",
    "display(cart_input, button, output)\n"
   ]
  },
  {
   "cell_type": "code",
   "execution_count": null,
   "id": "79ae1407-c89e-4069-91a3-d1bbbd917b08",
   "metadata": {},
   "outputs": [],
   "source": []
  }
 ],
 "metadata": {
  "kernelspec": {
   "display_name": "Python 3 (ipykernel)",
   "language": "python",
   "name": "python3"
  },
  "language_info": {
   "codemirror_mode": {
    "name": "ipython",
    "version": 3
   },
   "file_extension": ".py",
   "mimetype": "text/x-python",
   "name": "python",
   "nbconvert_exporter": "python",
   "pygments_lexer": "ipython3",
   "version": "3.12.0"
  }
 },
 "nbformat": 4,
 "nbformat_minor": 5
}
