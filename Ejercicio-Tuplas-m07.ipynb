{
 "cells": [
  {
   "cell_type": "code",
   "execution_count": 6,
   "id": "d7f51a53-e6fe-4772-b8ff-a280d40c5612",
   "metadata": {},
   "outputs": [
    {
     "name": "stdout",
     "output_type": "stream",
     "text": [
      "Lista de Reproducción\n",
      "\n",
      "Ingresa la palabra que te gustaría\n",
      "Ejemplo: 'rock', y obtendrás un playlist de canciones o artistas que incluyan la palabra rock\n"
     ]
    },
    {
     "name": "stdin",
     "output_type": "stream",
     "text": [
      " Urbandawn\n"
     ]
    },
    {
     "name": "stdout",
     "output_type": "stream",
     "text": [
      "('Come Together', 'Urbandawn')\n",
      "('Caffeine', 'Urbandawn')\n",
      "('Power', 'Netsky')\n",
      "('Fly Away', 'Urbandawn')\n",
      "('Be Gone (Urbandawn Remix)', 'Rival')\n",
      "('bailejungle', 'Urbandawn')\n",
      "('Halo (Urbandawn Remix)', 'Pendulum')\n",
      "('Caramel', 'Urbandawn')\n",
      "('Laguna', 'Krakota')\n",
      "('Sleeping Awake', 'Urbandawn')\n",
      "('Together Again (I Pray)', 'Urbandawn')\n",
      "('Sound Of The Underground', 'Zeds Dead')\n",
      "('Misfit', 'Urbandawn')\n",
      "('Carnival Blues', 'Urbandawn')\n",
      "('Flashforward', 'Urbandawn')\n",
      "('Sound Of The Underground (Holly Remix)', 'Zeds Dead')\n",
      "('Gloria', 'Urbandawn')\n",
      "('Focus Shift', 'Krakota')\n",
      "('Vona', 'Urbandawn')\n",
      "('Torus', 'Urbandawn')\n",
      "('I Wish You Could See It Too', 'London Elektricity')\n",
      "('Come Together (Dillinja Remix)', 'Urbandawn')\n",
      "('Coyote', 'Krakota')\n",
      "('Egregor', 'Urbandawn')\n",
      "('Words to Say (Hybrid Minds Remix)', 'Urbandawn')\n"
     ]
    }
   ],
   "source": [
    "import requests\n",
    "\n",
    "print(\"Lista de Reproducción\\n\")\n",
    "# Referencia: https://www.deezer.com/en/channels/explore\n",
    "print(\"Ingresa la palabra que te gustaría\")\n",
    "print(\"Ejemplo: 'rock', y obtendrás un playlist de canciones o artistas que incluyan la palabra rock\")\n",
    "\n",
    "word_to_search = input()\n",
    "\n",
    "url = \"https://deezerdevs-deezer.p.rapidapi.com/search\"\n",
    "querystring = {\"q\": word_to_search}\n",
    "headers = {\n",
    "    \"X-RapidAPI-Key\": \"3ed98f551fmshe4e6260228c4eadp13db17jsn8c893e1194da\",\n",
    "    \"X-RapidAPI-Host\": \"deezerdevs-deezer.p.rapidapi.com\"\n",
    "}\n",
    "\n",
    "response = requests.request(\"GET\", url, headers=headers, params=querystring).json()\n",
    "\n",
    "for element in response['data']:\n",
    "    my_tuple = (element['title'], element['artist']['name'])  # Convertir en tupla\n",
    "    print(my_tuple)  # Imprimir con paréntesis"
   ]
  },
  {
   "cell_type": "code",
   "execution_count": null,
   "id": "b92c8e67-8d14-4930-8193-ca474afb821f",
   "metadata": {},
   "outputs": [],
   "source": []
  }
 ],
 "metadata": {
  "kernelspec": {
   "display_name": "Python 3 (ipykernel)",
   "language": "python",
   "name": "python3"
  },
  "language_info": {
   "codemirror_mode": {
    "name": "ipython",
    "version": 3
   },
   "file_extension": ".py",
   "mimetype": "text/x-python",
   "name": "python",
   "nbconvert_exporter": "python",
   "pygments_lexer": "ipython3",
   "version": "3.12.0"
  }
 },
 "nbformat": 4,
 "nbformat_minor": 5
}
