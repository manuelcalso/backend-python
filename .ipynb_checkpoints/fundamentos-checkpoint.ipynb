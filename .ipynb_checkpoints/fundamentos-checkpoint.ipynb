{
 "cells": [
  {
   "cell_type": "markdown",
   "id": "1c1d7bf2-419e-4ad1-9c9c-32f693543a93",
   "metadata": {},
   "source": [
    " ## Python distingue entre mayusculas y minusculas"
   ]
  },
  {
   "cell_type": "code",
   "execution_count": 2,
   "id": "0d619e70-2f24-427a-85d2-aeae10a7d9f1",
   "metadata": {},
   "outputs": [
    {
     "ename": "NameError",
     "evalue": "name 'a' is not defined",
     "output_type": "error",
     "traceback": [
      "\u001b[1;31m---------------------------------------------------------------------------\u001b[0m",
      "\u001b[1;31mNameError\u001b[0m                                 Traceback (most recent call last)",
      "Cell \u001b[1;32mIn[2], line 2\u001b[0m\n\u001b[0;32m      1\u001b[0m A \u001b[38;5;241m=\u001b[39m \u001b[38;5;124m\"\u001b[39m\u001b[38;5;124mBackend Python\u001b[39m\u001b[38;5;124m\"\u001b[39m\n\u001b[1;32m----> 2\u001b[0m \u001b[38;5;28mprint\u001b[39m(\u001b[38;5;124m\"\u001b[39m\u001b[38;5;124mEl curso es:\u001b[39m\u001b[38;5;124m\"\u001b[39m,\u001b[43ma\u001b[49m)\n",
      "\u001b[1;31mNameError\u001b[0m: name 'a' is not defined"
     ]
    }
   ],
   "source": [
    "A = \"Backend Python\"\n",
    "print(\"El curso es:\",a)"
   ]
  },
  {
   "cell_type": "markdown",
   "id": "d489fa40-e23c-4920-857e-31c3a6d809a8",
   "metadata": {},
   "source": [
    "## Palabras reservadas"
   ]
  },
  {
   "cell_type": "code",
   "execution_count": 4,
   "id": "4ea240b0-1872-4225-b4b0-38280fc96d2b",
   "metadata": {},
   "outputs": [
    {
     "name": "stdout",
     "output_type": "stream",
     "text": [
      "El curso es: Backend Python\n"
     ]
    }
   ],
   "source": [
    "A = \"Backend Python\"\n",
    "print(\"El curso es:\",A)\n"
   ]
  },
  {
   "cell_type": "code",
   "execution_count": 5,
   "id": "58e56de4-4ddc-4c06-ae96-7cd7279be52b",
   "metadata": {},
   "outputs": [
    {
     "name": "stdout",
     "output_type": "stream",
     "text": [
      "\n",
      "Here is a list of the Python keywords.  Enter any keyword to get more help.\n",
      "\n",
      "False               class               from                or\n",
      "None                continue            global              pass\n",
      "True                def                 if                  raise\n",
      "and                 del                 import              return\n",
      "as                  elif                in                  try\n",
      "assert              else                is                  while\n",
      "async               except              lambda              with\n",
      "await               finally             nonlocal            yield\n",
      "break               for                 not                 \n",
      "\n"
     ]
    }
   ],
   "source": [
    "help(\"keywords\")"
   ]
  },
  {
   "cell_type": "markdown",
   "id": "0367fa11-c7ea-460a-aa70-49fae64c23f2",
   "metadata": {},
   "source": [
    "##Caracteres de escape en Python"
   ]
  },
  {
   "cell_type": "code",
   "execution_count": 9,
   "id": "79b9d8ba-2282-40d0-8afa-7a6c2e3321cf",
   "metadata": {},
   "outputs": [
    {
     "data": {
      "text/plain": [
       "\"'\""
      ]
     },
     "execution_count": 9,
     "metadata": {},
     "output_type": "execute_result"
    }
   ],
   "source": [
    "\"\\'\" # Signe Quote / Comilla sencilla "
   ]
  },
  {
   "cell_type": "code",
   "execution_count": 10,
   "id": "23685689-280f-46e9-b78a-9594c3492941",
   "metadata": {},
   "outputs": [
    {
     "data": {
      "text/plain": [
       "'\"'"
      ]
     },
     "execution_count": 10,
     "metadata": {},
     "output_type": "execute_result"
    }
   ],
   "source": [
    "\"\\\"\" # Double Quote / Comilla doble"
   ]
  },
  {
   "cell_type": "code",
   "execution_count": 11,
   "id": "20dd6bd0-1dd7-48cd-81fa-2115cb3cd43d",
   "metadata": {},
   "outputs": [
    {
     "data": {
      "text/plain": [
       "'\\n'"
      ]
     },
     "execution_count": 11,
     "metadata": {},
     "output_type": "execute_result"
    }
   ],
   "source": [
    "\"\\n\" #New Line / Salto de linea"
   ]
  },
  {
   "cell_type": "code",
   "execution_count": 12,
   "id": "a1844f0c-158e-4c51-b9c3-9dfbc00dcf90",
   "metadata": {},
   "outputs": [
    {
     "name": "stdout",
     "output_type": "stream",
     "text": [
      "Backend Python de EBAC\n"
     ]
    }
   ],
   "source": [
    "my_course = \"Backend Python de EBAC\"\n",
    "print(my_course)"
   ]
  },
  {
   "cell_type": "code",
   "execution_count": 13,
   "id": "5bffe04b-b901-4006-9aed-f2f73cc14bca",
   "metadata": {},
   "outputs": [
    {
     "name": "stdout",
     "output_type": "stream",
     "text": [
      "Backend Python \n",
      "de EBAC\n"
     ]
    }
   ],
   "source": [
    "my_course = \"Backend Python \\nde EBAC\"\n",
    "print(my_course)"
   ]
  },
  {
   "cell_type": "code",
   "execution_count": 14,
   "id": "21d03568-a41f-400c-9b60-67523829d7f8",
   "metadata": {},
   "outputs": [
    {
     "name": "stdout",
     "output_type": "stream",
     "text": [
      "Backend \n",
      "Python \n",
      "de EBAC\n"
     ]
    }
   ],
   "source": [
    "my_course = \"Backend \\nPython \\nde EBAC\"\n",
    "print(my_course)"
   ]
  },
  {
   "cell_type": "code",
   "execution_count": 15,
   "id": "51d4d287-910e-4a9a-8a68-0e3042646f50",
   "metadata": {},
   "outputs": [
    {
     "data": {
      "text/plain": [
       "'\\t'"
      ]
     },
     "execution_count": 15,
     "metadata": {},
     "output_type": "execute_result"
    }
   ],
   "source": [
    "\"\\t\" # Tab /saldo de linea tab"
   ]
  },
  {
   "cell_type": "code",
   "execution_count": 16,
   "id": "cd94bf61-8764-4049-b73b-ec8837d76907",
   "metadata": {},
   "outputs": [
    {
     "name": "stdout",
     "output_type": "stream",
     "text": [
      "Backend Python\tde EBAC\n"
     ]
    }
   ],
   "source": [
    "my_course = \"Backend Python\\tde EBAC\"\n",
    "print(my_course)"
   ]
  },
  {
   "cell_type": "code",
   "execution_count": 17,
   "id": "db60af83-0342-4aec-b75c-5dca9a2c736a",
   "metadata": {},
   "outputs": [
    {
     "name": "stdout",
     "output_type": "stream",
     "text": [
      "Backend\tPython\tde EBAC\n"
     ]
    }
   ],
   "source": [
    "my_course = \"Backend\\tPython\\tde EBAC\"\n",
    "print(my_course)"
   ]
  },
  {
   "cell_type": "code",
   "execution_count": 18,
   "id": "c800f6b4-7280-42c9-ac2f-d2b92b58cf00",
   "metadata": {},
   "outputs": [
    {
     "data": {
      "text/plain": [
       "'\\r'"
      ]
     },
     "execution_count": 18,
     "metadata": {},
     "output_type": "execute_result"
    }
   ],
   "source": [
    "\"\\r\"   #retorno de carro / caracter de escape "
   ]
  },
  {
   "cell_type": "code",
   "execution_count": 19,
   "id": "12fd8285-c0b9-4fa9-a4b2-b468f563b158",
   "metadata": {},
   "outputs": [
    {
     "name": "stdout",
     "output_type": "stream",
     "text": [
      " de EBAC\n"
     ]
    }
   ],
   "source": [
    "my_course = \"Backend\\rPython\\r de EBAC\"\n",
    "print(my_course)"
   ]
  },
  {
   "cell_type": "code",
   "execution_count": 20,
   "id": "3b43e4f6-6622-4539-8901-6f92ff05f436",
   "metadata": {},
   "outputs": [
    {
     "name": "stdout",
     "output_type": "stream",
     "text": [
      "Python de EBAC\n"
     ]
    }
   ],
   "source": [
    "my_course = \"Backend\\rPython de EBAC\"\n",
    "print(my_course)"
   ]
  },
  {
   "cell_type": "code",
   "execution_count": 21,
   "id": "ad682234-3ead-4c16-ace4-591dceeab5b5",
   "metadata": {},
   "outputs": [
    {
     "data": {
      "text/plain": [
       "'\\x08'"
      ]
     },
     "execution_count": 21,
     "metadata": {},
     "output_type": "execute_result"
    }
   ],
   "source": [
    "\"\\b\" #Backspace / retorno"
   ]
  },
  {
   "cell_type": "code",
   "execution_count": 23,
   "id": "e8a72634-a2d3-4adb-9567-4f91db4187be",
   "metadata": {},
   "outputs": [
    {
     "name": "stdout",
     "output_type": "stream",
     "text": [
      "BackenPython de EBAC\n"
     ]
    }
   ],
   "source": [
    "my_course = \"Backend\\bPython de EBAC\"\n",
    "#va a eliminiar el caracter anterior en este caso d\n",
    "print(my_course)"
   ]
  },
  {
   "cell_type": "code",
   "execution_count": 24,
   "id": "376af9c0-d775-4d56-9ffa-6ed73a139734",
   "metadata": {},
   "outputs": [
    {
     "name": "stdout",
     "output_type": "stream",
     "text": [
      "BackenPytho de EBAC\n"
     ]
    }
   ],
   "source": [
    "my_course = \"Backend\\bPython\\b de EBAC\"\n",
    "print(my_course)"
   ]
  },
  {
   "cell_type": "code",
   "execution_count": 26,
   "id": "e6596700-6bbb-43c2-b122-a03e37e883ea",
   "metadata": {},
   "outputs": [
    {
     "data": {
      "text/plain": [
       "'\\x00'"
      ]
     },
     "execution_count": 26,
     "metadata": {},
     "output_type": "execute_result"
    }
   ],
   "source": [
    "\"\\000\" #octal"
   ]
  },
  {
   "cell_type": "code",
   "execution_count": 27,
   "id": "7dc4ee77-9b93-49d1-b85a-8c1e4585a9e6",
   "metadata": {},
   "outputs": [
    {
     "name": "stdout",
     "output_type": "stream",
     "text": [
      "Hola\n"
     ]
    }
   ],
   "source": [
    "hello_spanish_octal = \"\\110\\157\\154\\141\"\n",
    "print(hello_spanish_octal)"
   ]
  },
  {
   "cell_type": "code",
   "execution_count": 29,
   "id": "6559512a-99bb-4f89-9391-c809a162ab30",
   "metadata": {},
   "outputs": [],
   "source": [
    "#\"\\xhh\" #Hexadecimal"
   ]
  },
  {
   "cell_type": "code",
   "execution_count": 30,
   "id": "e4cc6ebe-72c8-4b68-86cc-43a169f3a984",
   "metadata": {},
   "outputs": [
    {
     "name": "stdout",
     "output_type": "stream",
     "text": [
      "Hola\n"
     ]
    }
   ],
   "source": [
    "hello_spanish_hex = \"\\x48\\x6f\\x6c\\x61\"\n",
    "print(hello_spanish_hex)"
   ]
  },
  {
   "cell_type": "markdown",
   "id": "4ed94094-f3fa-4e4b-93da-1bb036ef32b9",
   "metadata": {},
   "source": [
    "## Funcion eval()"
   ]
  },
  {
   "cell_type": "code",
   "execution_count": 31,
   "id": "e275f779-9023-4e6d-8dcd-651d64cf0e0b",
   "metadata": {},
   "outputs": [
    {
     "name": "stdout",
     "output_type": "stream",
     "text": [
      "my_number+1000\n"
     ]
    }
   ],
   "source": [
    "my_number = 22\n",
    "print(\"my_number+1000\")"
   ]
  },
  {
   "cell_type": "code",
   "execution_count": 32,
   "id": "bd8b9f65-d03d-411a-9c9e-3b3256406d2f",
   "metadata": {},
   "outputs": [
    {
     "name": "stdout",
     "output_type": "stream",
     "text": [
      "1022\n"
     ]
    }
   ],
   "source": [
    "my_number = 22\n",
    "print(eval(\"my_number+1000\"))"
   ]
  },
  {
   "cell_type": "code",
   "execution_count": 33,
   "id": "1802408d-2048-4cc1-a46a-36788ee5801d",
   "metadata": {},
   "outputs": [
    {
     "name": "stdin",
     "output_type": "stream",
     "text": [
      "Ingresa un numero: 123\n"
     ]
    }
   ],
   "source": [
    "my_input = input(\"Ingresa un numero:\")"
   ]
  },
  {
   "cell_type": "code",
   "execution_count": 34,
   "id": "039794d6-e9f3-4653-ac60-8caadaa8fa41",
   "metadata": {},
   "outputs": [
    {
     "data": {
      "text/plain": [
       "'123'"
      ]
     },
     "execution_count": 34,
     "metadata": {},
     "output_type": "execute_result"
    }
   ],
   "source": [
    "my_input"
   ]
  },
  {
   "cell_type": "code",
   "execution_count": 35,
   "id": "ccb6378f-5b26-4ed6-bab9-494aa5a72365",
   "metadata": {},
   "outputs": [
    {
     "data": {
      "text/plain": [
       "123"
      ]
     },
     "execution_count": 35,
     "metadata": {},
     "output_type": "execute_result"
    }
   ],
   "source": [
    "eval(my_input)"
   ]
  },
  {
   "cell_type": "code",
   "execution_count": 36,
   "id": "4ea2870a-509c-4f25-9e89-52e1e73a081c",
   "metadata": {},
   "outputs": [
    {
     "name": "stdin",
     "output_type": "stream",
     "text": [
      "Ingresa un numero: 345\n"
     ]
    },
    {
     "name": "stdout",
     "output_type": "stream",
     "text": [
      "345\n",
      "<class 'str'>\n"
     ]
    }
   ],
   "source": [
    "my_input = input(\"Ingresa un numero:\")\n",
    "print(my_input)\n",
    "print(type(my_input))\n",
    "# Cadena / string"
   ]
  },
  {
   "cell_type": "code",
   "execution_count": 37,
   "id": "c3dbd229-6e84-4037-bb15-1358d5d4bbba",
   "metadata": {},
   "outputs": [
    {
     "name": "stdin",
     "output_type": "stream",
     "text": [
      "Ingresa un numero: 678\n"
     ]
    },
    {
     "name": "stdout",
     "output_type": "stream",
     "text": [
      "678\n",
      "<class 'int'>\n"
     ]
    }
   ],
   "source": [
    "my_input = eval(input(\"Ingresa un numero:\"))\n",
    "print(my_input)\n",
    "print(type(my_input))\n",
    "# Entero / Int"
   ]
  },
  {
   "cell_type": "markdown",
   "id": "0bad530f-aae8-408f-977c-ac2eea1a32cc",
   "metadata": {},
   "source": [
    "## Funcion range() y xrange()"
   ]
  },
  {
   "cell_type": "markdown",
   "id": "fef43d3e-756b-4a27-b101-6b038b0d8aa0",
   "metadata": {},
   "source": [
    "### range(start, stope, step)"
   ]
  },
  {
   "cell_type": "code",
   "execution_count": 42,
   "id": "719bfd05-d19f-4112-9ac7-dacc35c0c1b5",
   "metadata": {},
   "outputs": [],
   "source": [
    "x = range(10)"
   ]
  },
  {
   "cell_type": "code",
   "execution_count": 43,
   "id": "574de397-3656-4382-b9d3-586751c0f918",
   "metadata": {},
   "outputs": [
    {
     "data": {
      "text/plain": [
       "range(0, 10)"
      ]
     },
     "execution_count": 43,
     "metadata": {},
     "output_type": "execute_result"
    }
   ],
   "source": [
    "x"
   ]
  },
  {
   "cell_type": "code",
   "execution_count": 48,
   "id": "3047c983-cf95-440c-8a5f-99afee9fcfff",
   "metadata": {},
   "outputs": [
    {
     "name": "stdout",
     "output_type": "stream",
     "text": [
      "0\n",
      "1\n",
      "2\n",
      "3\n",
      "4\n",
      "5\n",
      "6\n",
      "7\n",
      "8\n",
      "9\n"
     ]
    }
   ],
   "source": [
    "for number in x:\n",
    "    print(number)"
   ]
  },
  {
   "cell_type": "code",
   "execution_count": 49,
   "id": "5b85c7ce-e339-416e-a0ca-d3d9e5a75fa8",
   "metadata": {},
   "outputs": [
    {
     "name": "stdout",
     "output_type": "stream",
     "text": [
      "3\n",
      "4\n",
      "5\n"
     ]
    }
   ],
   "source": [
    "x = range(3,6)\n",
    "for number in x:\n",
    "    print(number)"
   ]
  },
  {
   "cell_type": "code",
   "execution_count": 50,
   "id": "a28c11e1-265c-4b30-ada7-7e07a508e186",
   "metadata": {},
   "outputs": [
    {
     "name": "stdout",
     "output_type": "stream",
     "text": [
      "3\n",
      "5\n",
      "7\n",
      "9\n",
      "11\n",
      "13\n",
      "15\n",
      "17\n",
      "19\n"
     ]
    }
   ],
   "source": [
    "x = range(3, 20, 2)\n",
    "for number in x:\n",
    "    print(number)"
   ]
  },
  {
   "cell_type": "markdown",
   "id": "20b83f0a-a644-403d-8ce7-ba4260ae0967",
   "metadata": {},
   "source": [
    "## Mutabilidad e inmutabilidad"
   ]
  },
  {
   "cell_type": "code",
   "execution_count": 51,
   "id": "1dfb0585-7b9f-4b65-9811-c82e58c5bc6b",
   "metadata": {},
   "outputs": [],
   "source": [
    "tuple1 = (1,2,3,4,5)"
   ]
  },
  {
   "cell_type": "code",
   "execution_count": 52,
   "id": "02821952-1809-4382-a1b1-ccfeca61f2b7",
   "metadata": {},
   "outputs": [
    {
     "data": {
      "text/plain": [
       "(1, 2, 3, 4, 5)"
      ]
     },
     "execution_count": 52,
     "metadata": {},
     "output_type": "execute_result"
    }
   ],
   "source": [
    "tuple1"
   ]
  },
  {
   "cell_type": "code",
   "execution_count": 53,
   "id": "dfc03535-dd2d-41aa-8c2f-533b64e41bcb",
   "metadata": {},
   "outputs": [
    {
     "ename": "TypeError",
     "evalue": "'tuple' object does not support item assignment",
     "output_type": "error",
     "traceback": [
      "\u001b[1;31m---------------------------------------------------------------------------\u001b[0m",
      "\u001b[1;31mTypeError\u001b[0m                                 Traceback (most recent call last)",
      "Cell \u001b[1;32mIn[53], line 2\u001b[0m\n\u001b[0;32m      1\u001b[0m \u001b[38;5;66;03m# inmutabilidad\u001b[39;00m\n\u001b[1;32m----> 2\u001b[0m \u001b[43mtuple1\u001b[49m\u001b[43m[\u001b[49m\u001b[38;5;241;43m0\u001b[39;49m\u001b[43m]\u001b[49m \u001b[38;5;241m=\u001b[39m \u001b[38;5;241m10\u001b[39m\n",
      "\u001b[1;31mTypeError\u001b[0m: 'tuple' object does not support item assignment"
     ]
    }
   ],
   "source": [
    "# inmutabilidad\n",
    "tuple1[0] = 10"
   ]
  },
  {
   "cell_type": "code",
   "execution_count": 54,
   "id": "057308e0-6ae1-49b5-8c0a-578eaf631e3a",
   "metadata": {},
   "outputs": [],
   "source": [
    "my_string = \"Aprendiendo sobre inmutabilidad\""
   ]
  },
  {
   "cell_type": "code",
   "execution_count": 55,
   "id": "e58d47d1-6189-4195-8255-83dfbc9aa54f",
   "metadata": {},
   "outputs": [
    {
     "data": {
      "text/plain": [
       "'Aprendiendo sobre inmutabilidad'"
      ]
     },
     "execution_count": 55,
     "metadata": {},
     "output_type": "execute_result"
    }
   ],
   "source": [
    "my_string\n"
   ]
  },
  {
   "cell_type": "code",
   "execution_count": 56,
   "id": "3390d24c-b525-4838-988f-a08eecb252ae",
   "metadata": {},
   "outputs": [
    {
     "ename": "TypeError",
     "evalue": "'str' object does not support item assignment",
     "output_type": "error",
     "traceback": [
      "\u001b[1;31m---------------------------------------------------------------------------\u001b[0m",
      "\u001b[1;31mTypeError\u001b[0m                                 Traceback (most recent call last)",
      "Cell \u001b[1;32mIn[56], line 1\u001b[0m\n\u001b[1;32m----> 1\u001b[0m \u001b[43mmy_string\u001b[49m\u001b[43m[\u001b[49m\u001b[38;5;241;43m0\u001b[39;49m\u001b[43m]\u001b[49m \u001b[38;5;241m=\u001b[39m \u001b[38;5;124m\"\u001b[39m\u001b[38;5;124ma\u001b[39m\u001b[38;5;124m\"\u001b[39m\n",
      "\u001b[1;31mTypeError\u001b[0m: 'str' object does not support item assignment"
     ]
    }
   ],
   "source": [
    "my_string[0] = \"a\""
   ]
  },
  {
   "cell_type": "code",
   "execution_count": 57,
   "id": "711c6e2b-7922-4f7c-be0e-d72f68374f3f",
   "metadata": {},
   "outputs": [],
   "source": [
    "colors = [\"rojo\", \"azul\", \"verde\", \"negro\"]"
   ]
  },
  {
   "cell_type": "code",
   "execution_count": 58,
   "id": "139db4c3-03a4-4d07-9c24-5b7994f73682",
   "metadata": {},
   "outputs": [
    {
     "data": {
      "text/plain": [
       "['rojo', 'azul', 'verde', 'negro']"
      ]
     },
     "execution_count": 58,
     "metadata": {},
     "output_type": "execute_result"
    }
   ],
   "source": [
    "colors"
   ]
  },
  {
   "cell_type": "code",
   "execution_count": 60,
   "id": "c34c9888-816c-4ac6-826b-220b75442d87",
   "metadata": {},
   "outputs": [],
   "source": [
    "colors[0] = \"blanco\""
   ]
  },
  {
   "cell_type": "code",
   "execution_count": 61,
   "id": "ff661cee-057c-4306-81cd-93322fed0240",
   "metadata": {},
   "outputs": [
    {
     "data": {
      "text/plain": [
       "['blanco', 'azul', 'verde', 'negro']"
      ]
     },
     "execution_count": 61,
     "metadata": {},
     "output_type": "execute_result"
    }
   ],
   "source": [
    "colors\n"
   ]
  },
  {
   "cell_type": "markdown",
   "id": "9fd51904-8487-414d-b426-2fb444ae40fb",
   "metadata": {},
   "source": [
    "## funcion print"
   ]
  },
  {
   "cell_type": "code",
   "execution_count": 62,
   "id": "443d9f13-3ee4-4ec4-a344-fca4d658a96d",
   "metadata": {},
   "outputs": [],
   "source": [
    "# mostrar un resultado"
   ]
  },
  {
   "cell_type": "code",
   "execution_count": 63,
   "id": "f290f777-b46e-4887-8d42-6b8683aa765b",
   "metadata": {},
   "outputs": [
    {
     "name": "stdout",
     "output_type": "stream",
     "text": [
      "El valor de my_variable es: 567\n"
     ]
    }
   ],
   "source": [
    "my_variable = 567\n",
    "print(\"El valor de my_variable es:\", my_variable)"
   ]
  },
  {
   "cell_type": "code",
   "execution_count": 64,
   "id": "9059759d-366d-4c1d-9fcf-80396da2f913",
   "metadata": {},
   "outputs": [
    {
     "name": "stdout",
     "output_type": "stream",
     "text": [
      "El valor de d es: 800\n"
     ]
    }
   ],
   "source": [
    "a=100\n",
    "b=500\n",
    "c=200\n",
    "d=a+b+c\n",
    "print(\"El valor de d es:\",d)"
   ]
  },
  {
   "cell_type": "code",
   "execution_count": 65,
   "id": "36659adc-8cbe-498d-af9c-adb5fc96f934",
   "metadata": {},
   "outputs": [],
   "source": [
    "import builtins"
   ]
  },
  {
   "cell_type": "code",
   "execution_count": 66,
   "id": "c70fbd82-0915-4cee-bbb0-4f870d002a7c",
   "metadata": {},
   "outputs": [
    {
     "name": "stdout",
     "output_type": "stream",
     "text": [
      "Help on built-in function print in module builtins:\n",
      "\n",
      "print(*args, sep=' ', end='\\n', file=None, flush=False)\n",
      "    Prints the values to a stream, or to sys.stdout by default.\n",
      "\n",
      "    sep\n",
      "      string inserted between values, default a space.\n",
      "    end\n",
      "      string appended after the last value, default a newline.\n",
      "    file\n",
      "      a file-like object (stream); defaults to the current sys.stdout.\n",
      "    flush\n",
      "      whether to forcibly flush the stream.\n",
      "\n"
     ]
    }
   ],
   "source": [
    "help(builtins.print)"
   ]
  },
  {
   "cell_type": "code",
   "execution_count": 67,
   "id": "cd051068-a90c-46e5-bfb1-8b11a7dd3d29",
   "metadata": {},
   "outputs": [
    {
     "name": "stdout",
     "output_type": "stream",
     "text": [
      "Help on built-in function print in module builtins:\n",
      "\n",
      "print(*args, sep=' ', end='\\n', file=None, flush=False)\n",
      "    Prints the values to a stream, or to sys.stdout by default.\n",
      "\n",
      "    sep\n",
      "      string inserted between values, default a space.\n",
      "    end\n",
      "      string appended after the last value, default a newline.\n",
      "    file\n",
      "      a file-like object (stream); defaults to the current sys.stdout.\n",
      "    flush\n",
      "      whether to forcibly flush the stream.\n",
      "\n"
     ]
    }
   ],
   "source": [
    "help(print)"
   ]
  },
  {
   "cell_type": "code",
   "execution_count": 68,
   "id": "7f19a1b5-1cfa-4964-bb5f-55b238af86d2",
   "metadata": {},
   "outputs": [
    {
     "data": {
      "text/plain": [
       "['ArithmeticError',\n",
       " 'AssertionError',\n",
       " 'AttributeError',\n",
       " 'BaseException',\n",
       " 'BaseExceptionGroup',\n",
       " 'BlockingIOError',\n",
       " 'BrokenPipeError',\n",
       " 'BufferError',\n",
       " 'BytesWarning',\n",
       " 'ChildProcessError',\n",
       " 'ConnectionAbortedError',\n",
       " 'ConnectionError',\n",
       " 'ConnectionRefusedError',\n",
       " 'ConnectionResetError',\n",
       " 'DeprecationWarning',\n",
       " 'EOFError',\n",
       " 'Ellipsis',\n",
       " 'EncodingWarning',\n",
       " 'EnvironmentError',\n",
       " 'Exception',\n",
       " 'ExceptionGroup',\n",
       " 'False',\n",
       " 'FileExistsError',\n",
       " 'FileNotFoundError',\n",
       " 'FloatingPointError',\n",
       " 'FutureWarning',\n",
       " 'GeneratorExit',\n",
       " 'IOError',\n",
       " 'ImportError',\n",
       " 'ImportWarning',\n",
       " 'IndentationError',\n",
       " 'IndexError',\n",
       " 'InterruptedError',\n",
       " 'IsADirectoryError',\n",
       " 'KeyError',\n",
       " 'KeyboardInterrupt',\n",
       " 'LookupError',\n",
       " 'MemoryError',\n",
       " 'ModuleNotFoundError',\n",
       " 'NameError',\n",
       " 'None',\n",
       " 'NotADirectoryError',\n",
       " 'NotImplemented',\n",
       " 'NotImplementedError',\n",
       " 'OSError',\n",
       " 'OverflowError',\n",
       " 'PendingDeprecationWarning',\n",
       " 'PermissionError',\n",
       " 'ProcessLookupError',\n",
       " 'RecursionError',\n",
       " 'ReferenceError',\n",
       " 'ResourceWarning',\n",
       " 'RuntimeError',\n",
       " 'RuntimeWarning',\n",
       " 'StopAsyncIteration',\n",
       " 'StopIteration',\n",
       " 'SyntaxError',\n",
       " 'SyntaxWarning',\n",
       " 'SystemError',\n",
       " 'SystemExit',\n",
       " 'TabError',\n",
       " 'TimeoutError',\n",
       " 'True',\n",
       " 'TypeError',\n",
       " 'UnboundLocalError',\n",
       " 'UnicodeDecodeError',\n",
       " 'UnicodeEncodeError',\n",
       " 'UnicodeError',\n",
       " 'UnicodeTranslateError',\n",
       " 'UnicodeWarning',\n",
       " 'UserWarning',\n",
       " 'ValueError',\n",
       " 'Warning',\n",
       " 'WindowsError',\n",
       " 'ZeroDivisionError',\n",
       " '__IPYTHON__',\n",
       " '__build_class__',\n",
       " '__debug__',\n",
       " '__doc__',\n",
       " '__import__',\n",
       " '__loader__',\n",
       " '__name__',\n",
       " '__package__',\n",
       " '__spec__',\n",
       " 'abs',\n",
       " 'aiter',\n",
       " 'all',\n",
       " 'anext',\n",
       " 'any',\n",
       " 'ascii',\n",
       " 'bin',\n",
       " 'bool',\n",
       " 'breakpoint',\n",
       " 'bytearray',\n",
       " 'bytes',\n",
       " 'callable',\n",
       " 'chr',\n",
       " 'classmethod',\n",
       " 'compile',\n",
       " 'complex',\n",
       " 'copyright',\n",
       " 'credits',\n",
       " 'delattr',\n",
       " 'dict',\n",
       " 'dir',\n",
       " 'display',\n",
       " 'divmod',\n",
       " 'enumerate',\n",
       " 'eval',\n",
       " 'exec',\n",
       " 'execfile',\n",
       " 'filter',\n",
       " 'float',\n",
       " 'format',\n",
       " 'frozenset',\n",
       " 'get_ipython',\n",
       " 'getattr',\n",
       " 'globals',\n",
       " 'hasattr',\n",
       " 'hash',\n",
       " 'help',\n",
       " 'hex',\n",
       " 'id',\n",
       " 'input',\n",
       " 'int',\n",
       " 'isinstance',\n",
       " 'issubclass',\n",
       " 'iter',\n",
       " 'len',\n",
       " 'license',\n",
       " 'list',\n",
       " 'locals',\n",
       " 'map',\n",
       " 'max',\n",
       " 'memoryview',\n",
       " 'min',\n",
       " 'next',\n",
       " 'object',\n",
       " 'oct',\n",
       " 'open',\n",
       " 'ord',\n",
       " 'pow',\n",
       " 'print',\n",
       " 'property',\n",
       " 'range',\n",
       " 'repr',\n",
       " 'reversed',\n",
       " 'round',\n",
       " 'runfile',\n",
       " 'set',\n",
       " 'setattr',\n",
       " 'slice',\n",
       " 'sorted',\n",
       " 'staticmethod',\n",
       " 'str',\n",
       " 'sum',\n",
       " 'super',\n",
       " 'tuple',\n",
       " 'type',\n",
       " 'vars',\n",
       " 'zip']"
      ]
     },
     "execution_count": 68,
     "metadata": {},
     "output_type": "execute_result"
    }
   ],
   "source": [
    "dir(builtins)"
   ]
  },
  {
   "cell_type": "markdown",
   "id": "3305e295-bdbc-4e67-90e4-8c272099f8a7",
   "metadata": {},
   "source": [
    "## funcion type()"
   ]
  },
  {
   "cell_type": "code",
   "execution_count": 69,
   "id": "3bc51061-9b01-4437-a673-a84840d5e565",
   "metadata": {},
   "outputs": [
    {
     "name": "stdout",
     "output_type": "stream",
     "text": [
      "570\n"
     ]
    }
   ],
   "source": [
    "my_number = 570\n",
    "print(my_number)"
   ]
  },
  {
   "cell_type": "code",
   "execution_count": 70,
   "id": "eeb9df27-408d-4e4f-81d9-fdf2dfa0f56e",
   "metadata": {},
   "outputs": [
    {
     "name": "stdout",
     "output_type": "stream",
     "text": [
      "570\n",
      "<class 'int'>\n"
     ]
    }
   ],
   "source": [
    "# enter /int\n",
    "my_number = 570\n",
    "print(my_number)\n",
    "print(type(my_number))"
   ]
  },
  {
   "cell_type": "code",
   "execution_count": 71,
   "id": "67d52cb4-ab39-4da4-bd7c-6689fdeb74cd",
   "metadata": {},
   "outputs": [
    {
     "name": "stdout",
     "output_type": "stream",
     "text": [
      "Backend Python\n",
      "<class 'str'>\n"
     ]
    }
   ],
   "source": [
    "# Cadena / sting\n",
    "my_string = \"Backend Python\"\n",
    "print(my_string)\n",
    "print(type(my_string))"
   ]
  },
  {
   "cell_type": "code",
   "execution_count": 72,
   "id": "bc21b4b1-186d-446d-8a3b-6fc759187be7",
   "metadata": {},
   "outputs": [
    {
     "name": "stdout",
     "output_type": "stream",
     "text": [
      "3.95\n",
      "<class 'float'>\n"
     ]
    }
   ],
   "source": [
    "# flotante / floats para numeros con decimales\n",
    "my_float = 3.95\n",
    "print(my_float)\n",
    "print(type(my_float))"
   ]
  },
  {
   "cell_type": "code",
   "execution_count": 73,
   "id": "5acaaf51-21d4-45dd-949e-de09247b1834",
   "metadata": {},
   "outputs": [
    {
     "name": "stdout",
     "output_type": "stream",
     "text": [
      "True\n",
      "<class 'bool'>\n"
     ]
    }
   ],
   "source": [
    "# Boolean\n",
    "my_boolean = True \n",
    "print(my_boolean)\n",
    "print(type(my_boolean))"
   ]
  },
  {
   "cell_type": "code",
   "execution_count": 74,
   "id": "519e2ea2-0c58-43b9-b845-b4eb20491e8b",
   "metadata": {},
   "outputs": [
    {
     "ename": "NameError",
     "evalue": "name 'true' is not defined",
     "output_type": "error",
     "traceback": [
      "\u001b[1;31m---------------------------------------------------------------------------\u001b[0m",
      "\u001b[1;31mNameError\u001b[0m                                 Traceback (most recent call last)",
      "Cell \u001b[1;32mIn[74], line 2\u001b[0m\n\u001b[0;32m      1\u001b[0m \u001b[38;5;66;03m# Boolean\u001b[39;00m\n\u001b[1;32m----> 2\u001b[0m my_boolean \u001b[38;5;241m=\u001b[39m \u001b[43mtrue\u001b[49m \n\u001b[0;32m      3\u001b[0m \u001b[38;5;28mprint\u001b[39m(my_boolean)\n\u001b[0;32m      4\u001b[0m \u001b[38;5;28mprint\u001b[39m(\u001b[38;5;28mtype\u001b[39m(my_boolean))\n",
      "\u001b[1;31mNameError\u001b[0m: name 'true' is not defined"
     ]
    }
   ],
   "source": [
    "# Boolean\n",
    "my_boolean = true \n",
    "print(my_boolean)\n",
    "print(type(my_boolean))"
   ]
  },
  {
   "cell_type": "code",
   "execution_count": 75,
   "id": "c2df1128-0a85-4ead-9c8c-84d115fe35cc",
   "metadata": {},
   "outputs": [
    {
     "name": "stdout",
     "output_type": "stream",
     "text": [
      "False\n",
      "<class 'bool'>\n"
     ]
    }
   ],
   "source": [
    "# Boolean\n",
    "my_boolean = False \n",
    "print(my_boolean)\n",
    "print(type(my_boolean))"
   ]
  },
  {
   "cell_type": "code",
   "execution_count": 1,
   "id": "ceeb71c1-abf4-4e88-921a-3fa16decd0d0",
   "metadata": {},
   "outputs": [
    {
     "name": "stdout",
     "output_type": "stream",
     "text": [
      "[1, 7, 4, 12]\n",
      "<class 'list'>\n"
     ]
    }
   ],
   "source": [
    "#listas / list\n",
    "my_list=[1,7,4,12]\n",
    "print(my_list)\n",
    "print(type(my_list))"
   ]
  },
  {
   "cell_type": "code",
   "execution_count": 2,
   "id": "56427a00-40c5-4394-b8bb-2719944e9701",
   "metadata": {},
   "outputs": [
    {
     "name": "stdout",
     "output_type": "stream",
     "text": [
      "(3, 8, 2, 5)\n",
      "<class 'tuple'>\n"
     ]
    }
   ],
   "source": [
    "#Tuplas / tuple\n",
    "my_tuple=(3,8,2,5)\n",
    "print(my_tuple)\n",
    "print(type(my_tuple))"
   ]
  },
  {
   "cell_type": "code",
   "execution_count": 3,
   "id": "81624bc5-0982-470b-8939-24827be9dde0",
   "metadata": {},
   "outputs": [
    {
     "name": "stdout",
     "output_type": "stream",
     "text": [
      "{1, 'Python', 2.5, 4}\n",
      "<class 'set'>\n"
     ]
    }
   ],
   "source": [
    "#Set \n",
    "my_set = {4,1, \"Python\", 2.5}\n",
    "print(my_set)\n",
    "print(type(my_set))"
   ]
  },
  {
   "cell_type": "code",
   "execution_count": 4,
   "id": "94bdbdc6-9ca1-4f8e-b3e3-829ad9a6adc0",
   "metadata": {},
   "outputs": [
    {
     "ename": "NameError",
     "evalue": "name 'my_dictionary' is not defined",
     "output_type": "error",
     "traceback": [
      "\u001b[1;31m---------------------------------------------------------------------------\u001b[0m",
      "\u001b[1;31mNameError\u001b[0m                                 Traceback (most recent call last)",
      "Cell \u001b[1;32mIn[4], line 3\u001b[0m\n\u001b[0;32m      1\u001b[0m \u001b[38;5;66;03m#Diccionarios / dict\u001b[39;00m\n\u001b[0;32m      2\u001b[0m my_dictiontary \u001b[38;5;241m=\u001b[39m {\u001b[38;5;124m\"\u001b[39m\u001b[38;5;124ma\u001b[39m\u001b[38;5;124m\"\u001b[39m:\u001b[38;5;241m20\u001b[39m, \u001b[38;5;124m\"\u001b[39m\u001b[38;5;124mb\u001b[39m\u001b[38;5;124m\"\u001b[39m:\u001b[38;5;241m50\u001b[39m, \u001b[38;5;124m\"\u001b[39m\u001b[38;5;124mc\u001b[39m\u001b[38;5;124m\"\u001b[39m:\u001b[38;5;241m35\u001b[39m}\n\u001b[1;32m----> 3\u001b[0m \u001b[38;5;28mprint\u001b[39m(\u001b[43mmy_dictionary\u001b[49m)\n\u001b[0;32m      4\u001b[0m \u001b[38;5;28mprint\u001b[39m(\u001b[38;5;28mtype\u001b[39m(my_dictionary))\n",
      "\u001b[1;31mNameError\u001b[0m: name 'my_dictionary' is not defined"
     ]
    }
   ],
   "source": [
    "#Diccionarios / dict\n",
    "my_dictiontary = {\"a\":20, \"b\":50, \"c\":35}\n",
    "print(my_dictionary)\n",
    "print(type(my_dictionary))"
   ]
  },
  {
   "cell_type": "code",
   "execution_count": 5,
   "id": "a1c77c1e-c9cf-47f7-90b3-64021e869466",
   "metadata": {},
   "outputs": [
    {
     "name": "stdout",
     "output_type": "stream",
     "text": [
      "{'a': 20, 'b': 50, 'c': 35}\n",
      "<class 'dict'>\n"
     ]
    }
   ],
   "source": [
    "#Diccionarios / dict\n",
    "my_dictionary = {\"a\":20, \"b\":50, \"c\":35}\n",
    "print(my_dictionary)\n",
    "print(type(my_dictionary))"
   ]
  },
  {
   "cell_type": "markdown",
   "id": "466a7fca-4f0f-438d-8eb4-6ede9de06bf2",
   "metadata": {},
   "source": [
    "## Funcion id()"
   ]
  },
  {
   "cell_type": "markdown",
   "id": "a4dd34e0-96b0-4628-967a-e343756b144e",
   "metadata": {},
   "source": [
    "#### id() funcion para obtener la direccion de memoria\n"
   ]
  },
  {
   "cell_type": "code",
   "execution_count": 6,
   "id": "441ef88a-92c9-4311-979b-bfd575472d9f",
   "metadata": {},
   "outputs": [
    {
     "name": "stdout",
     "output_type": "stream",
     "text": [
      "Python\n",
      "<class 'str'>\n",
      "140715617145632\n"
     ]
    }
   ],
   "source": [
    "# Cadena / sting\n",
    "my_string = \"Python\"\n",
    "print(my_string)\n",
    "print(type(my_string))\n",
    "print(id(my_string))"
   ]
  },
  {
   "cell_type": "code",
   "execution_count": 7,
   "id": "9961fae8-df3a-4143-9fa3-b8b3370b820a",
   "metadata": {},
   "outputs": [
    {
     "name": "stdout",
     "output_type": "stream",
     "text": [
      "Backend\n",
      "<class 'str'>\n",
      "2843885436144\n"
     ]
    }
   ],
   "source": [
    "my_string2 = \"Backend\"\n",
    "print(my_string2)\n",
    "print(type(my_string2))\n",
    "print(id(my_string2))"
   ]
  },
  {
   "cell_type": "code",
   "execution_count": 8,
   "id": "d201667c-e156-463e-8d9a-724d79a5173f",
   "metadata": {},
   "outputs": [
    {
     "name": "stdout",
     "output_type": "stream",
     "text": [
      "Python\n",
      "Python\n",
      "<class 'str'>\n",
      "<class 'str'>\n",
      "140715617145632\n",
      "140715617145632\n"
     ]
    }
   ],
   "source": [
    "my_string = \"Python\"\n",
    "my_string3 = \"Python\"\n",
    "print(my_string)\n",
    "print(my_string3)\n",
    "print(type(my_string))\n",
    "print(type(my_string3))\n",
    "print(id(my_string))\n",
    "print(id(my_string3))"
   ]
  },
  {
   "cell_type": "markdown",
   "id": "5d8767ec-9fa1-4803-886a-040459776d2d",
   "metadata": {},
   "source": [
    "## Multiples Valores de Entrada"
   ]
  },
  {
   "cell_type": "code",
   "execution_count": 9,
   "id": "4747082b-ac8d-427c-a021-56a9e89ff93f",
   "metadata": {},
   "outputs": [
    {
     "name": "stdin",
     "output_type": "stream",
     "text": [
      "Ingresa el valor de my_number: 670\n"
     ]
    },
    {
     "name": "stdout",
     "output_type": "stream",
     "text": [
      "El valor de my_number es:  670\n"
     ]
    }
   ],
   "source": [
    "my_number = input(\"Ingresa el valor de my_number:\")\n",
    "print(\"El valor de my_number es: \", my_number)"
   ]
  },
  {
   "cell_type": "code",
   "execution_count": 10,
   "id": "bea4d3df-efd8-4668-a6ff-3a687348957d",
   "metadata": {},
   "outputs": [
    {
     "name": "stdin",
     "output_type": "stream",
     "text": [
      "Ingresa el los 3 valors:  100 200 300\n"
     ]
    },
    {
     "name": "stdout",
     "output_type": "stream",
     "text": [
      "El valor de a es:  100\n",
      "El valor de b es:  200\n",
      "El valor de c es:  300\n"
     ]
    }
   ],
   "source": [
    "a,b,c = input(\"Ingresa el los 3 valors: \").split()\n",
    "print(\"El valor de a es: \", a)\n",
    "print(\"El valor de b es: \", b)\n",
    "print(\"El valor de c es: \", c)"
   ]
  },
  {
   "cell_type": "code",
   "execution_count": 11,
   "id": "b2757030-1e30-455d-ba24-0f248816750b",
   "metadata": {},
   "outputs": [
    {
     "name": "stdin",
     "output_type": "stream",
     "text": [
      "Ingresa el los 3 valores separados por coma:  500,600,700\n"
     ]
    },
    {
     "name": "stdout",
     "output_type": "stream",
     "text": [
      "El valor de a es:  500\n",
      "El valor de b es:  600\n",
      "El valor de c es:  700\n"
     ]
    }
   ],
   "source": [
    "a,b,c = input(\"Ingresa el los 3 valores separados por coma: \").split(\",\")\n",
    "print(\"El valor de a es: \", a)\n",
    "print(\"El valor de b es: \", b)\n",
    "print(\"El valor de c es: \", c)"
   ]
  }
 ],
 "metadata": {
  "kernelspec": {
   "display_name": "Python 3 (ipykernel)",
   "language": "python",
   "name": "python3"
  },
  "language_info": {
   "codemirror_mode": {
    "name": "ipython",
    "version": 3
   },
   "file_extension": ".py",
   "mimetype": "text/x-python",
   "name": "python",
   "nbconvert_exporter": "python",
   "pygments_lexer": "ipython3",
   "version": "3.12.0"
  }
 },
 "nbformat": 4,
 "nbformat_minor": 5
}
