{
 "cells": [
  {
   "cell_type": "code",
   "execution_count": 3,
   "id": "c9dd67e2-06f2-40d1-87d9-1ccd057eac50",
   "metadata": {},
   "outputs": [
    {
     "name": "stdout",
     "output_type": "stream",
     "text": [
      "A838\n",
      "23D8\n",
      "D4A2\n",
      "C84D\n",
      "4AD1\n",
      "4A8D\n",
      "D852\n",
      "04A8\n",
      "C63A\n",
      "7514\n",
      "C751\n",
      "A71A\n",
      "4268\n",
      "A07A\n",
      "0882\n",
      "7B25\n",
      "8C82\n",
      "B360\n",
      "D4C1\n",
      "D8CC\n",
      "692B\n",
      "B607\n",
      "C1A4\n",
      "DD2A\n",
      "9CD2\n",
      "8DCA\n",
      "4253\n",
      "4D34\n",
      "A893\n",
      "B498\n"
     ]
    }
   ],
   "source": [
    "from itertools import product\n",
    "\n",
    "# Definimos los caracteres permitidos\n",
    "numbers = ['0', '1', '2', '3', '4', '5', '6', '7', '8', '9']\n",
    "letters = ['A', 'B', 'C', 'D']\n",
    "\n",
    "# Combinamos ambas listas\n",
    "elements = numbers + letters\n",
    "\n",
    "# Generamos todas las combinaciones posibles de 4 caracteres (con repetición)\n",
    "combinations = set(''.join(p) for p in product(elements, repeat=4))\n",
    "\n",
    "# Mostramos las primeras 30 combinaciones como ejemplo\n",
    "sample_combinations = list(combinations)[:30]\n",
    "\n",
    "# Imprimir ejemplo\n",
    "for comb in sample_combinations:\n",
    "    print(comb)\n"
   ]
  },
  {
   "cell_type": "code",
   "execution_count": null,
   "id": "b6e20d04-67fe-48f8-ae8f-d852c7e5e0d6",
   "metadata": {},
   "outputs": [],
   "source": []
  }
 ],
 "metadata": {
  "kernelspec": {
   "display_name": "Python 3 (ipykernel)",
   "language": "python",
   "name": "python3"
  },
  "language_info": {
   "codemirror_mode": {
    "name": "ipython",
    "version": 3
   },
   "file_extension": ".py",
   "mimetype": "text/x-python",
   "name": "python",
   "nbconvert_exporter": "python",
   "pygments_lexer": "ipython3",
   "version": "3.12.0"
  }
 },
 "nbformat": 4,
 "nbformat_minor": 5
}
