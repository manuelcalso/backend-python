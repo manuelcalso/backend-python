{
 "cells": [
  {
   "cell_type": "code",
   "execution_count": 21,
   "id": "10113183-6015-4641-a90b-77e8a799984d",
   "metadata": {},
   "outputs": [
    {
     "name": "stdin",
     "output_type": "stream",
     "text": [
      "Ingresa el valor de un int, float y string separandolos con una coma:  100,2.5,hola\n"
     ]
    },
    {
     "name": "stdout",
     "output_type": "stream",
     "text": [
      "El valor entero es:  100 <class 'int'>\n",
      "El valor float es:  2.5 <class 'float'>\n",
      "El valor cadena es: hola <class 'str'>\n"
     ]
    }
   ],
   "source": [
    "my_values = input(\"Ingresa el valor de un int, float y string separandolos con una coma: \")\n",
    "valores = my_values.split(\",\")\n",
    "\n",
    "entero = eval(valores[0])\n",
    "flotante = eval(valores[1])\n",
    "cadena = eval(\"'\" + valores[2] + \"'\")\n",
    "\n",
    "\n",
    "print(\"El valor entero es: \", entero, type(entero))\n",
    "print(\"El valor float es: \", flotante, type(flotante))\n",
    "print(\"El valor cadena es:\", cadena, type(cadena))\n",
    "\n"
   ]
  }
 ],
 "metadata": {
  "kernelspec": {
   "display_name": "Python 3 (ipykernel)",
   "language": "python",
   "name": "python3"
  },
  "language_info": {
   "codemirror_mode": {
    "name": "ipython",
    "version": 3
   },
   "file_extension": ".py",
   "mimetype": "text/x-python",
   "name": "python",
   "nbconvert_exporter": "python",
   "pygments_lexer": "ipython3",
   "version": "3.12.0"
  }
 },
 "nbformat": 4,
 "nbformat_minor": 5
}
