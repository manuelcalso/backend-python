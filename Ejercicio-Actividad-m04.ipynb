{
 "cells": [
  {
   "cell_type": "code",
   "execution_count": 74,
   "id": "3fec0318-eef9-4c18-a134-70713f6f0f15",
   "metadata": {
    "scrolled": true
   },
   "outputs": [
    {
     "name": "stdin",
     "output_type": "stream",
     "text": [
      "Ingrese la operación a realizar (suma, resta, multiplicacion, division, potencia):  resta\n",
      "Ingrese una lista con 5 números separados por comas:  [1, 2, 3, 4, 5]\n",
      "Ingrese un conjunto con 5 números separados por comas:  {9, 6, 2, 8.5, 3}\n",
      "Ingrese un diccionario con 5 pares clave-valor separados por comas:  {\"u\":10, \"j\":80, \"l\":30, \"r\":40, \"q\":9}\n"
     ]
    },
    {
     "name": "stdout",
     "output_type": "stream",
     "text": [
      "\n",
      "Valores de entrada:\n",
      "Lista: [1, 2, 3, 4, 5]\n",
      "Conjunto: {2, 3, 6, 8.5, 9}\n",
      "Diccionario: {'u': 10, 'j': 80, 'l': 30, 'r': 40, 'q': 9}\n",
      "\n",
      "Operación solicitada: resta\n",
      "Resultado de la operación: -182.5\n"
     ]
    }
   ],
   "source": [
    "def validar_entrada(entrada):\n",
    "    if type(entrada) == list and len(entrada) == 5:\n",
    "        return True\n",
    "    elif type(entrada) == set and len(entrada) == 5 and all(isinstance(item, (int, float)) for item in entrada):\n",
    "        return True\n",
    "    elif type(entrada) == dict and len(entrada) == 5:\n",
    "        return True\n",
    "    else:\n",
    "        return False\n",
    "\n",
    "def realizar_operacion(operacion, lista, conjunto, diccionario):\n",
    "    if operacion == \"suma\":\n",
    "        resultado = sum(lista) + sum(conjunto) + sum(diccionario.values())\n",
    "    elif operacion == \"resta\":\n",
    "        resultado = sum(lista) - sum(conjunto) - sum(diccionario.values())\n",
    "    elif operacion == \"multiplicacion\":\n",
    "        resultado = 1\n",
    "        for num in lista:\n",
    "            resultado *= num\n",
    "        for num in conjunto:\n",
    "            resultado *= num\n",
    "        for value in diccionario.values():\n",
    "            resultado *= value\n",
    "    elif operacion == \"division\":\n",
    "        try:\n",
    "            resultado = sum(lista) / sum(conjunto) / sum(diccionario.values())\n",
    "        except ZeroDivisionError:\n",
    "            resultado = \"Error: División por cero\"\n",
    "    elif operacion == \"potencia\":\n",
    "        resultado = sum(lista) ** sum(conjunto) ** sum(diccionario.values())\n",
    "    else:\n",
    "        resultado = \"Operación no reconocida\"\n",
    "    return resultado\n",
    "\n",
    "def main():\n",
    "    operaciones_validas = [\"suma\", \"resta\", \"multiplicacion\", \"division\", \"potencia\"]\n",
    "\n",
    "    operacion = input(\"Ingrese la operación a realizar (suma, resta, multiplicacion, division, potencia): \").lower()\n",
    "\n",
    "    if operacion not in operaciones_validas:\n",
    "        print(\"Operación no válida.\")\n",
    "        return\n",
    "\n",
    "    entrada_lista = eval(input(\"Ingrese una lista con 5 números separados por comas: \"))\n",
    "    entrada_conjunto = eval(input(\"Ingrese un conjunto con 5 números separados por comas: \"))\n",
    "    entrada_diccionario = eval(input(\"Ingrese un diccionario con 5 pares clave-valor separados por comas: \"))\n",
    "\n",
    "    if not (validar_entrada(entrada_lista) and validar_entrada(entrada_conjunto) and validar_entrada(entrada_diccionario)):\n",
    "        print(\"Entrada inválida.\")\n",
    "        return\n",
    "\n",
    "    print(\"\\nValores de entrada:\")\n",
    "    print(\"Lista:\", entrada_lista)\n",
    "    print(\"Conjunto:\", entrada_conjunto)\n",
    "    print(\"Diccionario:\", entrada_diccionario)\n",
    "\n",
    "    resultado = realizar_operacion(operacion, entrada_lista, entrada_conjunto, entrada_diccionario)\n",
    "    print(\"\\nOperación solicitada:\", operacion)\n",
    "    print(\"Resultado de la operación:\", resultado)\n",
    "\n",
    "if __name__ == \"__main__\":\n",
    "    main()"
   ]
  }
 ],
 "metadata": {
  "kernelspec": {
   "display_name": "Python 3 (ipykernel)",
   "language": "python",
   "name": "python3"
  },
  "language_info": {
   "codemirror_mode": {
    "name": "ipython",
    "version": 3
   },
   "file_extension": ".py",
   "mimetype": "text/x-python",
   "name": "python",
   "nbconvert_exporter": "python",
   "pygments_lexer": "ipython3",
   "version": "3.12.0"
  }
 },
 "nbformat": 4,
 "nbformat_minor": 5
}
