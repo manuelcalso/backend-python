{
 "cells": [
  {
   "cell_type": "code",
   "execution_count": 1,
   "id": "bab69060-1ebe-4f8e-ab10-5b68985f6b2f",
   "metadata": {},
   "outputs": [
    {
     "name": "stdout",
     "output_type": "stream",
     "text": [
      "Texto: Este es un producto muy bueno, excelente, maravilloso\n",
      "Resultado: Positivo\n",
      "\n",
      "Texto: La calidad de este producto es horrible, realmente malo\n",
      "Resultado: Negativo\n",
      "\n",
      "Texto: El servicio al cliente es excelente, muy bueno\n",
      "Resultado: Positivo\n",
      "\n",
      "Texto: Este artículo es defectuoso, no funciona correctamente\n",
      "Resultado: Neutro\n",
      "\n"
     ]
    }
   ],
   "source": [
    "def analyze_sentiment(text, positive_words, negative_words):\n",
    "    score = 0\n",
    "    for word in text.split():\n",
    "        if word in positive_words:\n",
    "            score += 1\n",
    "        elif word in negative_words:\n",
    "            score -= 1\n",
    "    if score == 0:\n",
    "        return \"Neutro\"\n",
    "    elif score > 0:\n",
    "        return \"Positivo\"\n",
    "    else:\n",
    "        return \"Negativo\"\n",
    "\n",
    "# Ejemplos de palabras positivas y negativas\n",
    "positive_words = [\"bueno\", \"excelente\", \"maravilloso\"]\n",
    "negative_words = [\"defectuoso\", \"malo\", \"horrible\"]\n",
    "\n",
    "# Ejemplos de textos\n",
    "textos = [\n",
    "    \"Este es un producto muy bueno, excelente, maravilloso\",\n",
    "    \"La calidad de este producto es horrible, realmente malo\",\n",
    "    \"El servicio al cliente es excelente, muy bueno\",\n",
    "    \"Este artículo es defectuoso, no funciona correctamente\"\n",
    "]\n",
    "\n",
    "# Analizar el sentimiento de cada texto\n",
    "for texto in textos:\n",
    "    resultado = analyze_sentiment(texto, positive_words, negative_words)\n",
    "    print(\"Texto: {}\\nResultado: {}\\n\".format(texto, resultado))\n"
   ]
  }
 ],
 "metadata": {
  "kernelspec": {
   "display_name": "Python 3 (ipykernel)",
   "language": "python",
   "name": "python3"
  },
  "language_info": {
   "codemirror_mode": {
    "name": "ipython",
    "version": 3
   },
   "file_extension": ".py",
   "mimetype": "text/x-python",
   "name": "python",
   "nbconvert_exporter": "python",
   "pygments_lexer": "ipython3",
   "version": "3.12.0"
  }
 },
 "nbformat": 4,
 "nbformat_minor": 5
}
