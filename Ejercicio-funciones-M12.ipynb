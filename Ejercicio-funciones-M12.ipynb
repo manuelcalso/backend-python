{
 "cells": [
  {
   "cell_type": "code",
   "execution_count": 4,
   "id": "dabf2a01-aeda-414c-8c24-1e95419feaa4",
   "metadata": {},
   "outputs": [
    {
     "name": "stdout",
     "output_type": "stream",
     "text": [
      "135.0\n",
      "114.75\n"
     ]
    }
   ],
   "source": [
    "def calcular_total_carrito(carrito, tipo_usuario):\n",
    "    \"\"\"\n",
    "    Calcula el total a pagar de un carrito de compras, aplicando descuento según tipo de usuario.\n",
    "    \n",
    "    Args:\n",
    "        carrito (list of dict): Lista de productos, cada uno con 'nombre', 'precio', y 'cantidad'.\n",
    "        tipo_usuario (str): Puede ser 'regular' o 'premium'.\n",
    "    \n",
    "    Returns:\n",
    "        float: Total a pagar con descuentos aplicados.\n",
    "    \"\"\"\n",
    "    \n",
    "    def obtener_descuento(tipo):\n",
    "        if tipo == 'premium':\n",
    "            return lambda precio: precio * 0.85  # 15% de descuento\n",
    "        elif tipo == 'regular':\n",
    "            return lambda precio: precio  # Sin descuento\n",
    "        else:\n",
    "            return lambda precio: precio  # Usuarios sin tipo definido\n",
    "    \n",
    "    aplicar_descuento = obtener_descuento(tipo_usuario)\n",
    "    \n",
    "    total = sum(aplicar_descuento(item['precio']) * item['cantidad'] for item in carrito)\n",
    "    \n",
    "    return round(total, 2)\n",
    "\n",
    "# Ejemplo de uso\n",
    "carrito = [\n",
    "    {'nombre': 'Camiseta', 'precio': 20.0, 'cantidad': 2},\n",
    "    {'nombre': 'Zapatos', 'precio': 50.0, 'cantidad': 1},\n",
    "    {'nombre': 'Gorra', 'precio': 15.0, 'cantidad': 3}\n",
    "]\n",
    "\n",
    "print(calcular_total_carrito(carrito, 'regular'))  # Sin descuento\n",
    "# Resultado esperado: 20*2 + 50*1 + 15*3 = 40 + 50 + 45 = 135.0\n",
    "\n",
    "print(calcular_total_carrito(carrito, 'premium'))  # Con 15% de descuento\n",
    "# Resultado esperado: (20*0.85)*2 + (50*0.85)*1 + (15*0.85)*3\n",
    "# => 17*2 + 42.5 + 38.25 = 34 + 42.5 + 38.25 = 114.75"
   ]
  }
 ],
 "metadata": {
  "kernelspec": {
   "display_name": "Python 3 (ipykernel)",
   "language": "python",
   "name": "python3"
  },
  "language_info": {
   "codemirror_mode": {
    "name": "ipython",
    "version": 3
   },
   "file_extension": ".py",
   "mimetype": "text/x-python",
   "name": "python",
   "nbconvert_exporter": "python",
   "pygments_lexer": "ipython3",
   "version": "3.12.0"
  }
 },
 "nbformat": 4,
 "nbformat_minor": 5
}
