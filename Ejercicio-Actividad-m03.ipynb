{
 "cells": [
  {
   "cell_type": "markdown",
   "id": "0525f9f4-5c7b-4079-a257-7400ed3f5689",
   "metadata": {},
   "source": [
    "# Ejercicio correspondiente a la actividad del modulo 03 "
   ]
  },
  {
   "cell_type": "code",
   "execution_count": 22,
   "id": "dce41620-da36-4292-bbc2-65b78bab8446",
   "metadata": {},
   "outputs": [
    {
     "name": "stdout",
     "output_type": "stream",
     "text": [
      "Selecciona una operacion:\n",
      "1. Suma\n",
      "2. Resta\n",
      "3. Multiplicacion\n",
      "4. Division\n",
      "5. Potencia\n"
     ]
    },
    {
     "name": "stdin",
     "output_type": "stream",
     "text": [
      "Ingresa el numero de la operacion deseada: 1\n",
      "Ingrese el primer numero: 0x17\n",
      "Ingrese el segundo numero: 0o17\n"
     ]
    },
    {
     "name": "stdout",
     "output_type": "stream",
     "text": [
      "El resultado es:  38\n"
     ]
    }
   ],
   "source": [
    "# funcion para la suma\n",
    "def suma(a, b):\n",
    "    return a + b\n",
    "\n",
    "# funcion para la resta\n",
    "def resta(a, b):\n",
    "    return a - b\n",
    "\n",
    "# funcion para la multiplicacion\n",
    "def multiplicacion(a, b):\n",
    "    return a * b\n",
    "\n",
    "# funcion para la division\n",
    "def division(a, b):\n",
    "    if a == 0 or b == 0:\n",
    "        return \"No se puede dividir entre 0\"\n",
    "    else: \n",
    "        return a / b\n",
    "\n",
    "# funcion para elevar a la potencia\n",
    "def potencia(a, b):\n",
    "    return a ** b\n",
    "\n",
    "\n",
    "def main():\n",
    "    print(\"Selecciona una operacion:\")\n",
    "    print(\"1. Suma\")\n",
    "    print(\"2. Resta\")\n",
    "    print(\"3. Multiplicacion\")\n",
    "    print(\"4. Division\")\n",
    "    print(\"5. Potencia\")\n",
    "\n",
    "    opcion = input(\"Ingresa el numero de la operacion deseada:\")\n",
    "    if opcion in [\"1\", \"2\", \"3\", \"4\", \"5\"]:\n",
    "        num1 = input(\"Ingrese el primer numero:\")\n",
    "        num2 = input(\"Ingrese el segundo numero:\")\n",
    "\n",
    "        if num1.startswith(\"0x\" or \"0X\"):\n",
    "            num1 = int(num1, 16)\n",
    "        elif num1.startswith(\"0b\" or \"0B\"):\n",
    "            num1 = int(num1, 2)\n",
    "        elif num1.startswith(\"0o\" or \"0O\"):\n",
    "            num1 = int(num1, 8)\n",
    "        else:\n",
    "            num1 = float(num1)\n",
    "\n",
    "        if num2.startswith(\"0x\" or \"0X\"):\n",
    "            num2 = int(num2, 16)\n",
    "        elif num2.startswith(\"0b\" or \"0B\"):\n",
    "            num2 = int(num2, 2)\n",
    "        elif num2.startswith(\"0o\" or \"0O\"):\n",
    "            num2 = int(num2, 8)\n",
    "        else:\n",
    "            num2 = float(num2)\n",
    "\n",
    "        if opcion == \"1\":\n",
    "            resultado = suma(num1, num2)\n",
    "        elif opcion == \"2\":\n",
    "            resultado = resta(num1, num2)\n",
    "        elif opcion == \"3\":\n",
    "            resultado = multiplicacion(num1, num2)\n",
    "        elif opcion == \"4\":\n",
    "            resultado = division(num1, num2)\n",
    "        elif opcion == \"5\":\n",
    "            resultado = potencia(num1, num2)\n",
    "\n",
    "        print(\"El resultado es: \", resultado)\n",
    "    else:\n",
    "        print(\"Opcion no valida, selecciona una operacion valida\")\n",
    "\n",
    "if __name__ == \"__main__\":\n",
    "    main()\n"
   ]
  },
  {
   "cell_type": "code",
   "execution_count": null,
   "id": "db229f0c-44cf-4e7e-b413-9c2f39cb6064",
   "metadata": {},
   "outputs": [],
   "source": []
  }
 ],
 "metadata": {
  "kernelspec": {
   "display_name": "Python 3 (ipykernel)",
   "language": "python",
   "name": "python3"
  },
  "language_info": {
   "codemirror_mode": {
    "name": "ipython",
    "version": 3
   },
   "file_extension": ".py",
   "mimetype": "text/x-python",
   "name": "python",
   "nbconvert_exporter": "python",
   "pygments_lexer": "ipython3",
   "version": "3.12.0"
  }
 },
 "nbformat": 4,
 "nbformat_minor": 5
}
