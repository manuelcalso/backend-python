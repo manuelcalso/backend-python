{
 "cells": [
  {
   "cell_type": "code",
   "execution_count": 1,
   "id": "cf7f8523-56e0-4b01-861e-a56ca5e1d118",
   "metadata": {},
   "outputs": [],
   "source": [
    "# Clase base\r\n",
    "class Producto:\r\n",
    "    def __init__(self, nombre, precio, stock):\r\n",
    "        self.nombre = nombre\r\n",
    "        self.precio = precio\r\n",
    "        self.stock = stock\r\n",
    "\r\n",
    "    def mostrar_info(self):\r\n",
    "        print(f\"Producto: {self.nombre}\\nPrecio: ${self.precio:.2f}\\nStock disponible: {self.stock}\")\r\n",
    "\r\n",
    "    def actualizar_stock(self, cantidad):\r\n",
    "        self.stock += cantidad\r\n",
    "        print(f\"Nuevo stock de {self.nombre}: {self.stock}\")\r\n",
    "\r\n",
    "    def aplicar_descuento(self, porcentaje):\r\n",
    "        descuento = self.precio * (porcentaje / 100)\r\n",
    "        self.precio -= descuento\r\n",
    "        print(f\"Precio con {porcentaje}% de descuento: ${self.precio:.2f}\")\r\n",
    "\r\n",
    "# Clase hija\r\n",
    "class ProductoDigital(Producto):\r\n",
    "    def __init__(self, nombre, precio, stock, formato, tamaño_descarga):\r\n",
    "        super().__init__(nombre, precio, stock)\r\n",
    "        self.formato = formato\r\n",
    "        self.tamaño_descarga = tamaño_descarga  # en MB\r\n",
    "\r\n",
    "    def descargar(self):\r\n",
    "        print(f\"Descargando {self.nombre} en formato {self.formato}... Tamaño: {self.tamaño_descarga}MB\")\r\n",
    "\r\n",
    "    def mostrar_info_digital(self):\r\n",
    "        self.mostrar_info()\r\n",
    "        print(f\"Formato: {self.formato}\\nTamaño de descarga: {self.tamaño_descarga}MB\")\r\n"
   ]
  },
  {
   "cell_type": "code",
   "execution_count": 3,
   "id": "99def9d4-3be8-460d-a576-dc20ec023402",
   "metadata": {},
   "outputs": [
    {
     "name": "stdout",
     "output_type": "stream",
     "text": [
      "Producto: Camiseta\n",
      "Precio: $25.00\n",
      "Stock disponible: 10\n",
      "Precio con 20% de descuento: $20.00\n",
      "Nuevo stock de Camiseta: 15\n",
      "\n",
      "---\n",
      "\n",
      "Producto: Curso de Python\n",
      "Precio: $49.99\n",
      "Stock disponible: 1000\n",
      "Formato: PDF\n",
      "Tamaño de descarga: 150MB\n",
      "Precio con 10% de descuento: $44.99\n",
      "Descargando Curso de Python en formato PDF... Tamaño: 150MB\n"
     ]
    }
   ],
   "source": [
    "# Instanciación de un producto físico\n",
    "producto1 = Producto(\"Camiseta\", 25.00, 10)\n",
    "producto1.mostrar_info()\n",
    "producto1.aplicar_descuento(20)\n",
    "producto1.actualizar_stock(5)\n",
    "\n",
    "print(\"\\n---\\n\")\n",
    "\n",
    "# Instanciación de un producto digital\n",
    "producto_digital1 = ProductoDigital(\"Curso de Python\", 49.99, 1000, \"PDF\", 150)\n",
    "producto_digital1.mostrar_info_digital()\n",
    "producto_digital1.aplicar_descuento(10)\n",
    "producto_digital1.descargar()"
   ]
  }
 ],
 "metadata": {
  "kernelspec": {
   "display_name": "Python 3 (ipykernel)",
   "language": "python",
   "name": "python3"
  },
  "language_info": {
   "codemirror_mode": {
    "name": "ipython",
    "version": 3
   },
   "file_extension": ".py",
   "mimetype": "text/x-python",
   "name": "python",
   "nbconvert_exporter": "python",
   "pygments_lexer": "ipython3",
   "version": "3.12.0"
  }
 },
 "nbformat": 4,
 "nbformat_minor": 5
}
