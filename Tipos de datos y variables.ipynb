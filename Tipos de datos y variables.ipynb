{
 "cells": [
  {
   "cell_type": "markdown",
   "id": "d1521598-c679-4192-9429-c559369f07e1",
   "metadata": {},
   "source": [
    "#Panorama\n",
    "\n",
    "int - Integer/Enteros\n",
    "\n",
    "float - Floats/numero con decimales\n",
    "\n",
    "complex - Complex/Complenjos (Numeros con una parte real y una imaginaria)\n",
    "\n",
    "bool - Boolean Logicos (True or False)  / Verdadero o falso valores logicos\n",
    "\n",
    "str - String / Cadena, Textos "
   ]
  },
  {
   "cell_type": "markdown",
   "id": "75af91eb-657d-4ddf-ab46-663991af6153",
   "metadata": {},
   "source": [
    "# int - Integer/Enteros  "
   ]
  },
  {
   "cell_type": "code",
   "execution_count": 2,
   "id": "d987a15c-fbf9-4815-8619-daa191eb48cc",
   "metadata": {},
   "outputs": [
    {
     "name": "stdout",
     "output_type": "stream",
     "text": [
      "El valor de my_integer:  11\n",
      "El tip de dato de my_integer:  <class 'int'>\n"
     ]
    }
   ],
   "source": [
    "my_integer = 11\n",
    "print(\"El valor de my_integer: \", my_integer)\n",
    "print(\"El tip de dato de my_integer: \", type(my_integer))"
   ]
  },
  {
   "cell_type": "code",
   "execution_count": 3,
   "id": "687068ee-bc42-495c-9241-0189067409be",
   "metadata": {},
   "outputs": [
    {
     "name": "stdout",
     "output_type": "stream",
     "text": [
      "El valor de my_integer:  2022\n",
      "El tip de dato de my_integer:  <class 'int'>\n"
     ]
    }
   ],
   "source": [
    "my_integer = 2022\n",
    "print(\"El valor de my_integer: \", my_integer)\n",
    "print(\"El tip de dato de my_integer: \", type(my_integer))"
   ]
  },
  {
   "cell_type": "code",
   "execution_count": 4,
   "id": "f92d6fa5-db8e-4ee9-a6b7-a1ead6c77e99",
   "metadata": {},
   "outputs": [
    {
     "name": "stdout",
     "output_type": "stream",
     "text": [
      "El valor de my_integer:  57831\n",
      "El tip de dato de my_integer:  <class 'int'>\n"
     ]
    }
   ],
   "source": [
    "my_integer = 57831\n",
    "print(\"El valor de my_integer: \", my_integer)\n",
    "print(\"El tip de dato de my_integer: \", type(my_integer))"
   ]
  },
  {
   "cell_type": "code",
   "execution_count": 5,
   "id": "afde2f6f-2e42-414c-9d4d-6726f84b2657",
   "metadata": {},
   "outputs": [
    {
     "ename": "SyntaxError",
     "evalue": "invalid decimal literal (571387890.py, line 2)",
     "output_type": "error",
     "traceback": [
      "\u001b[1;36m  Cell \u001b[1;32mIn[5], line 2\u001b[1;36m\u001b[0m\n\u001b[1;33m    my_integer = 11d\u001b[0m\n\u001b[1;37m                  ^\u001b[0m\n\u001b[1;31mSyntaxError\u001b[0m\u001b[1;31m:\u001b[0m invalid decimal literal\n"
     ]
    }
   ],
   "source": [
    "# error\n",
    "my_integer = 11d\n",
    "print(\"El valor de my_integer: \", my_integer)\n",
    "print(\"El tip de dato de my_integer: \", type(my_integer))"
   ]
  },
  {
   "cell_type": "markdown",
   "id": "ba243432-ead4-4631-bacc-30d41f719837",
   "metadata": {},
   "source": [
    "# float - Floats/numero con decimales"
   ]
  },
  {
   "cell_type": "code",
   "execution_count": 6,
   "id": "6b255c81-9c29-4e35-9785-51d6cf33422a",
   "metadata": {},
   "outputs": [
    {
     "name": "stdout",
     "output_type": "stream",
     "text": [
      "El valor de my_float:  11.1\n",
      "El tip de dato de my_integer:  <class 'float'>\n"
     ]
    }
   ],
   "source": [
    "my_float = 11.1\n",
    "print(\"El valor de my_float: \", my_float)\n",
    "print(\"El tip de dato de my_integer: \", type(my_float))"
   ]
  },
  {
   "cell_type": "code",
   "execution_count": 7,
   "id": "296554d9-083c-4dcd-b6b5-71a740dbece1",
   "metadata": {},
   "outputs": [
    {
     "name": "stdout",
     "output_type": "stream",
     "text": [
      "El valor de my_float:  11.0\n",
      "El tip de dato de my_integer:  <class 'float'>\n"
     ]
    }
   ],
   "source": [
    "my_float = 11.0\n",
    "print(\"El valor de my_float: \", my_float)\n",
    "print(\"El tip de dato de my_integer: \", type(my_float))"
   ]
  },
  {
   "cell_type": "code",
   "execution_count": 8,
   "id": "d729bbd9-ccbe-4f64-b2c5-f727d55812e5",
   "metadata": {},
   "outputs": [
    {
     "ename": "SyntaxError",
     "evalue": "invalid decimal literal (3457417375.py, line 1)",
     "output_type": "error",
     "traceback": [
      "\u001b[1;36m  Cell \u001b[1;32mIn[8], line 1\u001b[1;36m\u001b[0m\n\u001b[1;33m    my_float = 11.0h\u001b[0m\n\u001b[1;37m                  ^\u001b[0m\n\u001b[1;31mSyntaxError\u001b[0m\u001b[1;31m:\u001b[0m invalid decimal literal\n"
     ]
    }
   ],
   "source": [
    "my_float = 11.0h\n",
    "print(\"El valor de my_float: \", my_float)\n",
    "print(\"El tip de dato de my_integer: \", type(my_float))"
   ]
  },
  {
   "cell_type": "code",
   "execution_count": 9,
   "id": "4d559132-026a-4ad8-b337-05ce5adb1a9d",
   "metadata": {},
   "outputs": [
    {
     "name": "stdout",
     "output_type": "stream",
     "text": [
      "El valor de my_float:  2000.0\n",
      "El tip de dato de my_integer:  <class 'float'>\n"
     ]
    }
   ],
   "source": [
    "# notacion cientifica\n",
    "my_float = 2e3 #2.0*10**3\n",
    "print(\"El valor de my_float: \", my_float)\n",
    "print(\"El tip de dato de my_integer: \", type(my_float))"
   ]
  },
  {
   "cell_type": "code",
   "execution_count": 11,
   "id": "d7bb43ee-8b34-443e-b9dd-7d8f5fb88daa",
   "metadata": {},
   "outputs": [
    {
     "data": {
      "text/plain": [
       "1.1"
      ]
     },
     "execution_count": 11,
     "metadata": {},
     "output_type": "execute_result"
    }
   ],
   "source": [
    "1.1"
   ]
  },
  {
   "cell_type": "code",
   "execution_count": 12,
   "id": "296a0b44-243d-414d-91ed-f8f8c1e662ed",
   "metadata": {},
   "outputs": [
    {
     "data": {
      "text/plain": [
       "1.1"
      ]
     },
     "execution_count": 12,
     "metadata": {},
     "output_type": "execute_result"
    }
   ],
   "source": [
    "1.1e0 #1.1 * 10 ** 0"
   ]
  },
  {
   "cell_type": "code",
   "execution_count": 13,
   "id": "8d0b6941-2a8d-44ec-906d-fcc7a22e7ad0",
   "metadata": {},
   "outputs": [
    {
     "data": {
      "text/plain": [
       "11.0"
      ]
     },
     "execution_count": 13,
     "metadata": {},
     "output_type": "execute_result"
    }
   ],
   "source": [
    "1.1e1 #1.1 * 10 ** 1"
   ]
  },
  {
   "cell_type": "code",
   "execution_count": 14,
   "id": "a34e83db-1ba6-4d23-9ee1-dfaa28a8a524",
   "metadata": {},
   "outputs": [
    {
     "data": {
      "text/plain": [
       "110.0"
      ]
     },
     "execution_count": 14,
     "metadata": {},
     "output_type": "execute_result"
    }
   ],
   "source": [
    "1.1e2 #1.1 * 10 ** 2"
   ]
  },
  {
   "cell_type": "code",
   "execution_count": 15,
   "id": "4364c3aa-7f9d-4300-8be0-76ac66269b45",
   "metadata": {},
   "outputs": [
    {
     "data": {
      "text/plain": [
       "1100.0"
      ]
     },
     "execution_count": 15,
     "metadata": {},
     "output_type": "execute_result"
    }
   ],
   "source": [
    "1.1e3 #1.1 * 10 ** 3"
   ]
  },
  {
   "cell_type": "code",
   "execution_count": 16,
   "id": "909683e7-26c8-4252-9506-cf7cc44545d2",
   "metadata": {},
   "outputs": [
    {
     "data": {
      "text/plain": [
       "0.08"
      ]
     },
     "execution_count": 16,
     "metadata": {},
     "output_type": "execute_result"
    }
   ],
   "source": [
    "8e-2 #8.0 * 10 ** -2"
   ]
  },
  {
   "cell_type": "markdown",
   "id": "2e288cfb-f579-468f-8aad-acf2120eb765",
   "metadata": {},
   "source": [
    "# complex - Complex/Complejos (Numeros con una parte real y una imaginaria)\n",
    "\n",
    "comples = x + yj\n",
    "\n",
    "x = parte real \n",
    "\n",
    "yj = parte imaginaria"
   ]
  },
  {
   "cell_type": "code",
   "execution_count": 17,
   "id": "de074725-aa02-4170-b29d-5d7fe67800c4",
   "metadata": {},
   "outputs": [
    {
     "name": "stdout",
     "output_type": "stream",
     "text": [
      "El valor de my_complex:  (3+9j)\n",
      "El tip de dato de my_complex:  <class 'complex'>\n"
     ]
    }
   ],
   "source": [
    "my_complex = 3 + 9j\n",
    "print(\"El valor de my_complex: \", my_complex)\n",
    "print(\"El tip de dato de my_complex: \", type(my_complex))"
   ]
  },
  {
   "cell_type": "code",
   "execution_count": 18,
   "id": "4b7d2cf8-525c-4815-8ca9-359e30853285",
   "metadata": {},
   "outputs": [
    {
     "name": "stdout",
     "output_type": "stream",
     "text": [
      "El valor de my_complex:  (2+5j)\n",
      "El tip de dato de my_complex:  <class 'complex'>\n"
     ]
    }
   ],
   "source": [
    "my_complex = 2 + 5j\n",
    "print(\"El valor de my_complex: \", my_complex)\n",
    "print(\"El tip de dato de my_complex: \", type(my_complex))"
   ]
  },
  {
   "cell_type": "markdown",
   "id": "b93b70ab-42fd-41b3-805b-523a250e38d3",
   "metadata": {},
   "source": [
    "# bool - Boolean Logicos (True or False) / Verdadero o falso valores logicos"
   ]
  },
  {
   "cell_type": "code",
   "execution_count": 19,
   "id": "39176423-5717-48a3-a2cc-4cf969cfd55b",
   "metadata": {},
   "outputs": [
    {
     "name": "stdout",
     "output_type": "stream",
     "text": [
      "El valor de my_boolean:  False\n",
      "El tip de dato de my_boolean:  <class 'bool'>\n"
     ]
    }
   ],
   "source": [
    "my_boolean = False\n",
    "print(\"El valor de my_boolean: \", my_boolean)\n",
    "print(\"El tip de dato de my_boolean: \", type(my_boolean))"
   ]
  },
  {
   "cell_type": "code",
   "execution_count": 20,
   "id": "cb9e0845-ba46-40b0-abaf-e7dafd824c0b",
   "metadata": {},
   "outputs": [
    {
     "name": "stdout",
     "output_type": "stream",
     "text": [
      "El valor de my_boolean:  True\n",
      "El tip de dato de my_boolean:  <class 'bool'>\n"
     ]
    }
   ],
   "source": [
    "my_boolean = True\n",
    "print(\"El valor de my_boolean: \", my_boolean)\n",
    "print(\"El tip de dato de my_boolean: \", type(my_boolean))"
   ]
  },
  {
   "cell_type": "code",
   "execution_count": 21,
   "id": "b84d24eb-43aa-46ce-8a5a-3f04b1e05302",
   "metadata": {},
   "outputs": [],
   "source": [
    "# True = 1\n",
    "# False = 0"
   ]
  },
  {
   "cell_type": "code",
   "execution_count": 22,
   "id": "9a5cf37e-c51b-4350-842f-977fcf7bf5f0",
   "metadata": {},
   "outputs": [
    {
     "name": "stdout",
     "output_type": "stream",
     "text": [
      "3\n"
     ]
    }
   ],
   "source": [
    "# 3\n",
    "print(True + True + True)"
   ]
  },
  {
   "cell_type": "code",
   "execution_count": 23,
   "id": "fa23e4eb-86a3-4d9b-a859-c2da30a977db",
   "metadata": {},
   "outputs": [
    {
     "name": "stdout",
     "output_type": "stream",
     "text": [
      "0\n"
     ]
    }
   ],
   "source": [
    "# 0\n",
    "print(False + False + False)"
   ]
  },
  {
   "cell_type": "code",
   "execution_count": 24,
   "id": "b4c04baa-442c-4f45-8bdd-1b87c48817e0",
   "metadata": {},
   "outputs": [
    {
     "name": "stdout",
     "output_type": "stream",
     "text": [
      "2\n"
     ]
    }
   ],
   "source": [
    "# 2\n",
    "print(True + False + True)"
   ]
  },
  {
   "cell_type": "code",
   "execution_count": 25,
   "id": "42b6fd7c-370a-46ca-ba78-e445d3573d6f",
   "metadata": {},
   "outputs": [
    {
     "name": "stdout",
     "output_type": "stream",
     "text": [
      "1\n"
     ]
    }
   ],
   "source": [
    "# 1\n",
    "print(True - True + True)"
   ]
  },
  {
   "cell_type": "code",
   "execution_count": 27,
   "id": "603da424-c04f-4547-898b-4c9fe0df85fb",
   "metadata": {},
   "outputs": [
    {
     "name": "stdout",
     "output_type": "stream",
     "text": [
      "-2\n"
     ]
    }
   ],
   "source": [
    "# 2\n",
    "print(False - True - True)"
   ]
  },
  {
   "cell_type": "markdown",
   "id": "a5af380d-c88c-4694-8a53-960d029cbb6f",
   "metadata": {},
   "source": [
    "# str - String / Cadena, Textos"
   ]
  },
  {
   "cell_type": "code",
   "execution_count": 28,
   "id": "3edbed14-5f7d-456a-b06c-3b952256cb4b",
   "metadata": {},
   "outputs": [
    {
     "name": "stdout",
     "output_type": "stream",
     "text": [
      "El valor de my_string:  Backend Python\n",
      "El tip de dato de my_string:  <class 'str'>\n"
     ]
    }
   ],
   "source": [
    "my_string = \"Backend Python\"\n",
    "print(\"El valor de my_string: \", my_string)\n",
    "print(\"El tip de dato de my_string: \", type(my_string))"
   ]
  },
  {
   "cell_type": "code",
   "execution_count": 29,
   "id": "140453d3-c171-4254-889b-35d0e64499da",
   "metadata": {},
   "outputs": [
    {
     "name": "stdout",
     "output_type": "stream",
     "text": [
      "El valor de my_string:  Curso de EBAC\n",
      "El tip de dato de my_string:  <class 'str'>\n"
     ]
    }
   ],
   "source": [
    "my_string = \"Curso de EBAC\"\n",
    "print(\"El valor de my_string: \", my_string)\n",
    "print(\"El tip de dato de my_string: \", type(my_string))"
   ]
  },
  {
   "cell_type": "code",
   "execution_count": 30,
   "id": "bd7b6f82-d5b5-4fb5-aa11-ad6385af799d",
   "metadata": {},
   "outputs": [
    {
     "name": "stdout",
     "output_type": "stream",
     "text": [
      "El valor de my_string:  Aprendiendo a usar strings o cadenas o textos\n",
      "El tip de dato de my_string:  <class 'str'>\n"
     ]
    }
   ],
   "source": [
    "my_string = \"Aprendiendo a usar strings o cadenas o textos\"\n",
    "print(\"El valor de my_string: \", my_string)\n",
    "print(\"El tip de dato de my_string: \", type(my_string))"
   ]
  },
  {
   "cell_type": "code",
   "execution_count": 32,
   "id": "a1b6fce4-4186-45a5-87e4-b89480545055",
   "metadata": {},
   "outputs": [
    {
     "name": "stdout",
     "output_type": "stream",
     "text": [
      "El valor de my_string:   \n",
      "Es una cadena con multiples lineas\n",
      "\n",
      "Como puede ver es genial para textos más largos\n",
      "\n",
      "¿Puedes imaginar cuantas cosas podrias hacer manejando texto de internet?\n",
      "\n",
      "El tip de dato de my_string:  <class 'str'>\n"
     ]
    }
   ],
   "source": [
    "my_string = \"\"\" \n",
    "Es una cadena con multiples lineas\\n\n",
    "Como puede ver es genial para textos más largos\\n\n",
    "¿Puedes imaginar cuantas cosas podrias hacer manejando texto de internet?\n",
    "\"\"\"\n",
    "print(\"El valor de my_string: \", my_string)\n",
    "print(\"El tip de dato de my_string: \", type(my_string))"
   ]
  },
  {
   "cell_type": "markdown",
   "id": "f5f75a67-98b9-46f4-95e0-22c9e5aadea7",
   "metadata": {},
   "source": [
    "# Variables \n",
    "\n",
    "### ¿Que es una variable?\n",
    "\n",
    "- Son un espacio temporal para guardar un valor con un nombre especifico\n",
    "- No hay necesidad de declarar el tipo de dato explicitamente\n",
    "- Python es un lenguaje tipado dinamicamente, lo que quiere decir que el tipo de dato se define mientras corre el programa\n",
    "- Las variables en Python funcionan diferente que otros lenguajes de programacion\n",
    "- No necesitamos crear las variables, solo asignamos un nombre a un valor usando el operador de asignación =\n",
    "\n",
    "### Tipos de variablas \n",
    "- Variables Globales: las que se utilizaran para todo el programa\n",
    "- Variables Locales: las que se utilizaran en solo en un bloque especifico \n"
   ]
  },
  {
   "cell_type": "markdown",
   "id": "fa195407-03fd-427b-a422-af6a16551b31",
   "metadata": {},
   "source": [
    "# Variables Globales\n",
    "- Declaramos variables globales afuera de funciones\n",
    "- El valor de la variable puede ser constante para todo el programa\n",
    "- Cualquier funcion pude acceder a estas variables\n",
    "- Podemos decir que las variables globales tienen un scope global\n",
    "- Normalmente son mas usadas para constantes\n",
    "- Las variables globales mantienen sus valores a traves de la ejecucion completa de tu programa\n",
    "- Una variable global puede ser accesada por cualquier funcion "
   ]
  },
  {
   "cell_type": "code",
   "execution_count": null,
   "id": "9edda7cc-31c4-4afc-96bc-b45009769432",
   "metadata": {},
   "outputs": [],
   "source": [
    "# Variable Global\n",
    "my_global_variable=50\n",
    "\n",
    "def my_function_1():\n",
    "    pass\n",
    "\n",
    "def my_function_2():\n",
    "    pass"
   ]
  },
  {
   "cell_type": "code",
   "execution_count": null,
   "id": "d859545d-8b7f-419a-b4fa-bc7f7b3252f7",
   "metadata": {},
   "outputs": [],
   "source": [
    "# Variablas locales\n",
    "def my_function_1():\n",
    "    my_global_variable=5\n",
    "\n",
    "def my_function_2():\n",
    "    my_global_variable=35"
   ]
  },
  {
   "cell_type": "code",
   "execution_count": 37,
   "id": "16c7835f-6275-4e84-89f5-1f00e645553b",
   "metadata": {},
   "outputs": [],
   "source": [
    "# Variable Global\n",
    "my_global_variable=50\n",
    "\n",
    "def my_function_1():\n",
    "    print(\"my_function_1 - El valor de my_global_variable es:  \", my_global_variable)\n",
    "\n",
    "def my_function_2():\n",
    "    print(\"my_function_2 - El valor de my_global_variable es:  \", my_global_variable)"
   ]
  },
  {
   "cell_type": "code",
   "execution_count": 38,
   "id": "bfd71736-7e0c-41f8-8702-3baec08d994b",
   "metadata": {},
   "outputs": [
    {
     "name": "stdout",
     "output_type": "stream",
     "text": [
      "my_function_1 - El valor de my_global_variable es:   50\n"
     ]
    }
   ],
   "source": [
    "my_function_1()"
   ]
  },
  {
   "cell_type": "code",
   "execution_count": 39,
   "id": "de886305-5a85-4324-b8fc-4177e1aea4f4",
   "metadata": {},
   "outputs": [
    {
     "name": "stdout",
     "output_type": "stream",
     "text": [
      "my_function_2 - El valor de my_global_variable es:   50\n"
     ]
    }
   ],
   "source": [
    "my_function_2()"
   ]
  },
  {
   "cell_type": "code",
   "execution_count": 40,
   "id": "6c268fbc-5438-4778-9c74-ae981f8a03be",
   "metadata": {},
   "outputs": [],
   "source": [
    "# Preferencia al valor local, y despues al global\n",
    "my_variable=50 # Global\n",
    "\n",
    "def my_function_1():\n",
    "    my_variable=10 # Local\n",
    "    print(\"my_function_1 - El valor de my_variable es:  \", my_variable)\n",
    "\n",
    "def my_function_2():\n",
    "    my_variable=20 # Local\n",
    "    print(\"my_function_2 - El valor de my_variable es:  \", my_variable)\n",
    "\n",
    "def my_function_3():\n",
    "    print(\"my_function_3 - El valor de my_variable es:  \", my_variable)"
   ]
  },
  {
   "cell_type": "code",
   "execution_count": 41,
   "id": "1e0b1955-f953-4c56-b20b-f6d64a33243d",
   "metadata": {},
   "outputs": [
    {
     "name": "stdout",
     "output_type": "stream",
     "text": [
      "my_function_1 - El valor de my_variable es:   10\n",
      "my_function_2 - El valor de my_variable es:   20\n",
      "my_function_3 - El valor de my_variable es:   50\n"
     ]
    }
   ],
   "source": [
    "my_function_1()\n",
    "\n",
    "my_function_2()\n",
    "\n",
    "my_function_3()"
   ]
  },
  {
   "cell_type": "markdown",
   "id": "b536dfc0-6acf-494c-aba1-82dd9b2aba38",
   "metadata": {},
   "source": [
    "# Variables Locales\n",
    "- Podemos usarlas dentro de una funcion\n",
    "- Podemos tener una restriccion al acceder a una variable local desde otro función\n",
    "- No podemos usarlas durante todo el programa\n",
    "- El alcance y visibilidad se limita al interior de la funcion\n",
    "- Lo que dure la funcion sera lo que dure el alcance de nuestra variable"
   ]
  },
  {
   "cell_type": "code",
   "execution_count": null,
   "id": "afe76ed6-b031-45b9-b912-1d4f9587133d",
   "metadata": {},
   "outputs": [],
   "source": [
    "# Variable Locales\n",
    "my_global_variable=50\n",
    "\n",
    "def my_function_1():\n",
    "    pass\n",
    "\n",
    "def my_function_2():\n",
    "    pass"
   ]
  },
  {
   "cell_type": "code",
   "execution_count": null,
   "id": "6713cb7a-98d9-4295-93dc-046eb22e545e",
   "metadata": {},
   "outputs": [],
   "source": [
    "# Variablas locales\n",
    "def my_function_1():\n",
    "    my_global_variable=5\n",
    "\n",
    "def my_function_2():\n",
    "    my_global_variable=35"
   ]
  },
  {
   "cell_type": "code",
   "execution_count": 42,
   "id": "681ffb29-db2a-4773-bbef-1bf5f7552e15",
   "metadata": {},
   "outputs": [],
   "source": [
    "def my_function_1():\n",
    "    my_variable=10 # Local\n",
    "    print(\"my_function_1 - El valor de my_variable es:  \", my_variable)\n",
    "\n",
    "def my_function_2():\n",
    "    my_variable=20 # Local\n",
    "    print(\"my_function_2 - El valor de my_variable es:  \", my_variable)\n",
    "\n",
    "def my_function_3():\n",
    "    print(\"my_function_3 - El valor de my_variable es:  \", my_variable)"
   ]
  },
  {
   "cell_type": "code",
   "execution_count": 1,
   "id": "c764120d-d3f5-4689-946c-1426485c96ac",
   "metadata": {},
   "outputs": [
    {
     "ename": "NameError",
     "evalue": "name 'my_function_1' is not defined",
     "output_type": "error",
     "traceback": [
      "\u001b[1;31m---------------------------------------------------------------------------\u001b[0m",
      "\u001b[1;31mNameError\u001b[0m                                 Traceback (most recent call last)",
      "Cell \u001b[1;32mIn[1], line 1\u001b[0m\n\u001b[1;32m----> 1\u001b[0m \u001b[43mmy_function_1\u001b[49m()\n\u001b[0;32m      2\u001b[0m my_function_2()\n\u001b[0;32m      3\u001b[0m my_function_3()\n",
      "\u001b[1;31mNameError\u001b[0m: name 'my_function_1' is not defined"
     ]
    }
   ],
   "source": [
    "my_function_1()\n",
    "my_function_2()\n",
    "my_function_3()"
   ]
  },
  {
   "cell_type": "markdown",
   "id": "72636fc6-b6a7-4918-afab-c1d12474984d",
   "metadata": {},
   "source": [
    "# Palabra reservada \"global\""
   ]
  },
  {
   "cell_type": "code",
   "execution_count": 3,
   "id": "d2a22496-b9dc-4471-8a6b-b8eb63e3d586",
   "metadata": {},
   "outputs": [],
   "source": [
    "def my_function_1():\n",
    "    my_variable=10 # Local\n",
    "    print(\"my_function_1 - El valor de my_variable es:  \", my_variable)\n",
    "\n",
    "def my_function_2():\n",
    "    global my_variable # Global\n",
    "    my_variable=20 \n",
    "    print(\"my_function_2 - El valor de my_variable es:  \", my_variable)\n",
    "\n",
    "def my_function_3():\n",
    "    print(\"my_function_3 - El valor de my_variable es:  \", my_variable)"
   ]
  },
  {
   "cell_type": "code",
   "execution_count": 4,
   "id": "6f36b89c-d544-4756-b3fb-256ec08ed2c2",
   "metadata": {},
   "outputs": [
    {
     "name": "stdout",
     "output_type": "stream",
     "text": [
      "my_function_1 - El valor de my_variable es:   10\n"
     ]
    }
   ],
   "source": [
    " my_function_1()"
   ]
  },
  {
   "cell_type": "code",
   "execution_count": 5,
   "id": "6f29fe79-c459-49d2-9e5a-23b3e346c35c",
   "metadata": {},
   "outputs": [
    {
     "name": "stdout",
     "output_type": "stream",
     "text": [
      "my_function_2 - El valor de my_variable es:   20\n"
     ]
    }
   ],
   "source": [
    "my_function_2()"
   ]
  },
  {
   "cell_type": "code",
   "execution_count": 6,
   "id": "8f0151cd-66b1-4ed3-b4ff-f260ce5d3621",
   "metadata": {},
   "outputs": [
    {
     "name": "stdout",
     "output_type": "stream",
     "text": [
      "my_function_3 - El valor de my_variable es:   20\n"
     ]
    }
   ],
   "source": [
    "my_function_3()"
   ]
  },
  {
   "cell_type": "code",
   "execution_count": 9,
   "id": "88184f3d-983b-4fea-b8ac-bd4fe194aaa5",
   "metadata": {},
   "outputs": [],
   "source": [
    "def my_function_1():\n",
    "    my_variable=10 # Local\n",
    "    print(\"my_function_1 - El valor de my_variable es:  \", my_variable)\n",
    "\n",
    "def my_function_2():\n",
    "    global a, b, c, d, e # Global\n",
    "    a=10\n",
    "    b=20\n",
    "    c=30\n",
    "    d=40\n",
    "    e=50\n",
    "    print(\"my_function_2 - El valor de a es:  \", a)\n",
    "    print(\"my_function_2 - El valor de b es:  \", b)\n",
    "    print(\"my_function_2 - El valor de c es:  \", c)\n",
    "    print(\"my_function_2 - El valor de d es:  \", d)\n",
    "    print(\"my_function_2 - El valor de e es:  \", e)\n",
    "\n",
    "def my_function_3():\n",
    "    print(\"my_function_3 - El valor de a es:  \", a)\n",
    "    print(\"my_function_3 - El valor de b es:  \", b)\n",
    "    print(\"my_function_3 - El valor de c es:  \", c)\n",
    "    print(\"my_function_3 - El valor de d es:  \", d)\n",
    "    print(\"my_function_3 - El valor de e es:  \", e)\n"
   ]
  },
  {
   "cell_type": "code",
   "execution_count": 10,
   "id": "1236b8ef-5850-4ec4-a007-6a121e8b3178",
   "metadata": {},
   "outputs": [
    {
     "name": "stdout",
     "output_type": "stream",
     "text": [
      "my_function_1 - El valor de my_variable es:   10\n"
     ]
    }
   ],
   "source": [
    "my_function_1()"
   ]
  },
  {
   "cell_type": "code",
   "execution_count": 11,
   "id": "9183ac91-7952-4f86-9add-81ed5503272b",
   "metadata": {},
   "outputs": [
    {
     "name": "stdout",
     "output_type": "stream",
     "text": [
      "my_function_2 - El valor de a es:   10\n",
      "my_function_2 - El valor de b es:   20\n",
      "my_function_2 - El valor de c es:   30\n",
      "my_function_2 - El valor de d es:   40\n",
      "my_function_2 - El valor de e es:   50\n"
     ]
    }
   ],
   "source": [
    "my_function_2()"
   ]
  },
  {
   "cell_type": "code",
   "execution_count": 12,
   "id": "4df8417c-51a1-4c5b-a2b3-5c52f887d673",
   "metadata": {},
   "outputs": [
    {
     "name": "stdout",
     "output_type": "stream",
     "text": [
      "my_function_3 - El valor de a es:   10\n",
      "my_function_3 - El valor de b es:   20\n",
      "my_function_3 - El valor de c es:   30\n",
      "my_function_3 - El valor de d es:   40\n",
      "my_function_3 - El valor de e es:   50\n"
     ]
    }
   ],
   "source": [
    "my_function_3()"
   ]
  },
  {
   "cell_type": "markdown",
   "id": "447f67f1-555d-40e3-96b8-a11d8cfae2b7",
   "metadata": {},
   "source": [
    "# Tipos de enteros\n",
    "- Forma Decimal\n",
    "- Forma Binaria\n",
    "- Forma Octal\n",
    "- Forma Hexadecimal"
   ]
  },
  {
   "cell_type": "markdown",
   "id": "cac6fba4-ca33-43df-b363-111ac0e12594",
   "metadata": {},
   "source": [
    "# Forma Decimal"
   ]
  },
  {
   "cell_type": "code",
   "execution_count": 13,
   "id": "cbce3cfa-585e-4ec6-86bd-a9d3017fbcbe",
   "metadata": {},
   "outputs": [
    {
     "name": "stdout",
     "output_type": "stream",
     "text": [
      "El valor de my_decimal_number:  55\n"
     ]
    }
   ],
   "source": [
    "my_decimal_number=55\n",
    "print(\"El valor de my_decimal_number: \", my_decimal_number)"
   ]
  },
  {
   "cell_type": "code",
   "execution_count": 14,
   "id": "ad9a8d1c-0850-4a7f-acea-c5b475f2fa1f",
   "metadata": {},
   "outputs": [
    {
     "name": "stdout",
     "output_type": "stream",
     "text": [
      "El valor de my_decimal_number:  6516513216513218\n"
     ]
    }
   ],
   "source": [
    "my_decimal_number=6516513216513218\n",
    "print(\"El valor de my_decimal_number: \", my_decimal_number)"
   ]
  },
  {
   "cell_type": "code",
   "execution_count": 15,
   "id": "d156600d-0131-4d5f-9a47-5d14d03a5dd1",
   "metadata": {},
   "outputs": [
    {
     "ename": "SyntaxError",
     "evalue": "invalid decimal literal (2408297837.py, line 2)",
     "output_type": "error",
     "traceback": [
      "\u001b[1;36m  Cell \u001b[1;32mIn[15], line 2\u001b[1;36m\u001b[0m\n\u001b[1;33m    my_decimal_number=6516513216513218d\u001b[0m\n\u001b[1;37m                                     ^\u001b[0m\n\u001b[1;31mSyntaxError\u001b[0m\u001b[1;31m:\u001b[0m invalid decimal literal\n"
     ]
    }
   ],
   "source": [
    "# error\n",
    "my_decimal_number=6516513216513218d\n",
    "print(\"El valor de my_decimal_number: \", my_decimal_number)"
   ]
  },
  {
   "cell_type": "markdown",
   "id": "74902d8e-53ab-4f2b-b477-b7bd84883475",
   "metadata": {},
   "source": [
    "# Forma Binaria\n",
    "- Codigo que se organiza en bytes\n",
    "- Lenguaje binario\n",
    "- Lenguaje de las Maquinas (1 y 0)\n",
    "### Valor Base: 2\n",
    "- Solamente acepta dos digitos el 1 y el 0\n",
    "- Usamos el prefijo \"0b\" o \"0B\""
   ]
  },
  {
   "cell_type": "code",
   "execution_count": 19,
   "id": "67c32772-adae-43e0-8c08-ee69fdacd1b5",
   "metadata": {},
   "outputs": [
    {
     "name": "stdout",
     "output_type": "stream",
     "text": [
      "El valor de my_decimal_number:  11\n"
     ]
    }
   ],
   "source": [
    "my_decimal_number=11\n",
    "print(\"El valor de my_decimal_number: \", my_decimal_number)"
   ]
  },
  {
   "cell_type": "code",
   "execution_count": 18,
   "id": "4854702a-31fe-4142-a476-c30582371a24",
   "metadata": {},
   "outputs": [
    {
     "name": "stdout",
     "output_type": "stream",
     "text": [
      "El valor de my_binary_number:  3\n"
     ]
    }
   ],
   "source": [
    "my_binary_number=0b11 # 1*2**1 + 1*2**0\n",
    "print(\"El valor de my_binary_number: \", my_binary_number)"
   ]
  },
  {
   "cell_type": "code",
   "execution_count": 20,
   "id": "715c80c0-9ca9-475a-b219-d2606507ed91",
   "metadata": {},
   "outputs": [
    {
     "name": "stdout",
     "output_type": "stream",
     "text": [
      "El valor de my_decimal_number:  111\n"
     ]
    }
   ],
   "source": [
    "my_decimal_number=111\n",
    "print(\"El valor de my_decimal_number: \", my_decimal_number)"
   ]
  },
  {
   "cell_type": "code",
   "execution_count": 21,
   "id": "80ee76c6-3585-475d-a077-70f185144efc",
   "metadata": {},
   "outputs": [
    {
     "name": "stdout",
     "output_type": "stream",
     "text": [
      "El valor de my_binary_number:  7\n"
     ]
    }
   ],
   "source": [
    "my_binary_number=0B111 # 1*2**2 1*2**1 + 1*2**0\n",
    "print(\"El valor de my_binary_number: \", my_binary_number)"
   ]
  },
  {
   "cell_type": "markdown",
   "id": "e2aca738-538c-418d-a92e-482eeb989b86",
   "metadata": {},
   "source": [
    "# Forma Octal\n",
    "### Valor base 8\n",
    "- Solamente acepta digitos del 0 al 7\n",
    "- Usamos el prefijo \"0o\" o \"0O\""
   ]
  },
  {
   "cell_type": "code",
   "execution_count": 22,
   "id": "6b3993f5-6c6e-465c-a123-455b2c82efbc",
   "metadata": {},
   "outputs": [
    {
     "name": "stdout",
     "output_type": "stream",
     "text": [
      "El valor de my_decimal_number:  17\n"
     ]
    }
   ],
   "source": [
    "my_decimal_number=17\n",
    "print(\"El valor de my_decimal_number: \", my_decimal_number)"
   ]
  },
  {
   "cell_type": "code",
   "execution_count": 23,
   "id": "c35e30f7-57ed-4fd8-84d7-e7ab13e852e1",
   "metadata": {},
   "outputs": [
    {
     "name": "stdout",
     "output_type": "stream",
     "text": [
      "El valor de my_octal_number:  15\n"
     ]
    }
   ],
   "source": [
    "my_octal_number=0o17 # 1*8**1 + 7*8**0\n",
    "print(\"El valor de my_octal_number: \", my_octal_number)"
   ]
  },
  {
   "cell_type": "code",
   "execution_count": null,
   "id": "2fc922a4-c6ba-4fb6-bb55-b7906fa27e84",
   "metadata": {},
   "outputs": [],
   "source": [
    "my_octal_number=0o17 # 1*8**1 + 7*8**0\n",
    "print(\"El valor de my_octal_number: \", my_octal_number)"
   ]
  },
  {
   "cell_type": "code",
   "execution_count": 24,
   "id": "219fa57a-3ea6-4ff4-b08b-ec33dda5ea86",
   "metadata": {},
   "outputs": [
    {
     "name": "stdout",
     "output_type": "stream",
     "text": [
      "El valor de my_decimal_number:  153\n"
     ]
    }
   ],
   "source": [
    "my_decimal_number=153\n",
    "print(\"El valor de my_decimal_number: \", my_decimal_number)"
   ]
  },
  {
   "cell_type": "code",
   "execution_count": 25,
   "id": "9ae0ccdb-f800-4e7b-9e81-b11fc93cafc3",
   "metadata": {},
   "outputs": [
    {
     "name": "stdout",
     "output_type": "stream",
     "text": [
      "El valor de my_octal_number:  107\n"
     ]
    }
   ],
   "source": [
    "my_octal_number=0O153 # 1*8**2 + 5*8**1 + 3*8**0\n",
    "print(\"El valor de my_octal_number: \", my_octal_number)"
   ]
  },
  {
   "cell_type": "markdown",
   "id": "6c243766-8039-4ec5-b831-e3489273e653",
   "metadata": {},
   "source": [
    "# Forma Hexadecimal\n",
    "### Valor Base: 16\n",
    "- Acepta digito del 0 al 9\n",
    "- Acepta letras de la a/A a la f/F\n",
    "- Usamos el prefijo \"0x\" o \"0X\"\n",
    "\n",
    "  0\n",
    "  1\n",
    "  2\n",
    "  3\n",
    "  4\n",
    "  5\n",
    "  6\n",
    "  7\n",
    "  8\n",
    "  9\n",
    "  a = 10\n",
    "  b = 11\n",
    "  c = 12\n",
    "  d = 13\n",
    "  e = 14\n",
    "  f = 15\n",
    "  "
   ]
  },
  {
   "cell_type": "code",
   "execution_count": 26,
   "id": "58c421a0-5c96-498e-b58e-d64503218d81",
   "metadata": {},
   "outputs": [
    {
     "name": "stdout",
     "output_type": "stream",
     "text": [
      "El valor de my_decimal_number:  17\n"
     ]
    }
   ],
   "source": [
    "my_decimal_number=17\n",
    "print(\"El valor de my_decimal_number: \", my_decimal_number)"
   ]
  },
  {
   "cell_type": "code",
   "execution_count": 27,
   "id": "9c7fdb4d-ebbe-4d74-bdec-54c6f2776ea7",
   "metadata": {},
   "outputs": [
    {
     "name": "stdout",
     "output_type": "stream",
     "text": [
      "El valor de my_hex_number:  23\n"
     ]
    }
   ],
   "source": [
    "my_hex_number=0x17 # 1*16**1 + 7*16**0\n",
    "print(\"El valor de my_hex_number: \", my_hex_number)"
   ]
  },
  {
   "cell_type": "code",
   "execution_count": 28,
   "id": "61de5f41-1a39-4803-81e3-ef65326cd45a",
   "metadata": {},
   "outputs": [
    {
     "name": "stdout",
     "output_type": "stream",
     "text": [
      "El valor de my_hex_number:  28\n"
     ]
    }
   ],
   "source": [
    "my_hex_number=0x1c # 1*16**1 + 12*16**0\n",
    "print(\"El valor de my_hex_number: \", my_hex_number)"
   ]
  }
 ],
 "metadata": {
  "kernelspec": {
   "display_name": "Python 3 (ipykernel)",
   "language": "python",
   "name": "python3"
  },
  "language_info": {
   "codemirror_mode": {
    "name": "ipython",
    "version": 3
   },
   "file_extension": ".py",
   "mimetype": "text/x-python",
   "name": "python",
   "nbconvert_exporter": "python",
   "pygments_lexer": "ipython3",
   "version": "3.12.0"
  }
 },
 "nbformat": 4,
 "nbformat_minor": 5
}
