{
 "cells": [
  {
   "cell_type": "code",
   "execution_count": 28,
   "id": "7a956014-6aed-4a05-bca0-f9883a677836",
   "metadata": {},
   "outputs": [
    {
     "name": "stdin",
     "output_type": "stream",
     "text": [
      "Ingresa el nombre de un pokemon en minusculas\n",
      "\n",
      " latios\n"
     ]
    },
    {
     "name": "stdout",
     "output_type": "stream",
     "text": [
      "ID:  381\n",
      "Nombre:  latios\n",
      "Altura: 2.00 metros\n",
      "Peso: 60.00 kg\n",
      "Descripción: No se pudo obtener la descripcion de la URL. Código de estado: 404\n"
     ]
    }
   ],
   "source": [
    "import pokebase as pb\n",
    "import requests\n",
    "\n",
    "# Ingresar el nombre del Pokémon\n",
    "pokemon_to_search = input(\"Ingresa el nombre de un pokemon en minusculas\\n\\n\")\n",
    "\n",
    "# Obtener los datos del Pokémon usando pokeapi\n",
    "data = pb.pokemon(pokemon_to_search).__dict__\n",
    "\n",
    "# Extraer la ID, nombre, altura y peso del Pokémon\n",
    "id_ = data.get('id_')\n",
    "name = data.get('name')\n",
    "height = data.get('height')  # Altura en decímetros\n",
    "weight = data.get('weight')  # Peso en hectogramos\n",
    "\n",
    "# Convertir altura y peso a unidades más comprensibles\n",
    "height_in_meters = height / 10  # La altura está en decímetros, convertimos a metros\n",
    "weight_in_kg = weight / 10  # El peso está en hectogramos, convertimos a kilogramos\n",
    "\n",
    "# Imprimir la información básica del Pokémon\n",
    "print(\"ID: \", id_)\n",
    "print(\"Nombre: \", name)\n",
    "print(\"Altura: {:.2f} metros\".format(height_in_meters))  # Formateamos a dos decimales\n",
    "print(\"Peso: {:.2f} kg\".format(weight_in_kg))  # Formateamos a dos decimales\n",
    "\n",
    "# Obtener la URL de la descripción del Pokémon\n",
    "url = \"https://pokeapi.co/api/v2/characteristic/{id}/\".format(id=id_)\n",
    "\n",
    "# Realizamos la solicitud y verificamos si es exitosa\n",
    "response = requests.get(url)\n",
    "\n",
    "# Verificamos el código de estado de la respuesta\n",
    "if response.status_code == 200:\n",
    "    try:\n",
    "        # Intentamos procesar la respuesta JSON\n",
    "        json_data = response.json()\n",
    "\n",
    "        # Buscar la descripción en español\n",
    "        for description_dict in json_data.get(\"descriptions\", []):\n",
    "            if description_dict.get(\"language\", {}).get(\"name\") == \"es\":\n",
    "                description = description_dict.get(\"description\")\n",
    "                print(\"Descripción: \", description)\n",
    "    except ValueError:\n",
    "        print(\"Error al decodificar el JSON. La respuesta no contiene datos válidos.\")\n",
    "else:\n",
    "    print(f\"Descripción: No se pudo obtener la descripcion de la URL. Código de estado: {response.status_code}\")\n"
   ]
  },
  {
   "cell_type": "code",
   "execution_count": null,
   "id": "d90227f4-42f8-4f06-9846-38c5f67c254d",
   "metadata": {},
   "outputs": [],
   "source": []
  }
 ],
 "metadata": {
  "kernelspec": {
   "display_name": "Python 3 (ipykernel)",
   "language": "python",
   "name": "python3"
  },
  "language_info": {
   "codemirror_mode": {
    "name": "ipython",
    "version": 3
   },
   "file_extension": ".py",
   "mimetype": "text/x-python",
   "name": "python",
   "nbconvert_exporter": "python",
   "pygments_lexer": "ipython3",
   "version": "3.12.0"
  }
 },
 "nbformat": 4,
 "nbformat_minor": 5
}
