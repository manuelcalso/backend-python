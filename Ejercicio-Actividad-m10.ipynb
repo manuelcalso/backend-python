{
 "cells": [
  {
   "cell_type": "code",
   "execution_count": 1,
   "id": "6a991fda-443e-4f58-8bf8-7f9b783a4601",
   "metadata": {},
   "outputs": [
    {
     "name": "stdout",
     "output_type": "stream",
     "text": [
      "Lista de Reproducción\n",
      "\n",
      "Ingresa la palabra que te gustaría:\n",
      "Ejemplo: 'rock', y obtendrás un playlist de canciones o artistas que incluyan la palabra rock\n"
     ]
    },
    {
     "name": "stdin",
     "output_type": "stream",
     "text": [
      "Palabra clave:  rock\n"
     ]
    },
    {
     "name": "stdout",
     "output_type": "stream",
     "text": [
      "\n",
      "Resultados encontrados:\n",
      "rockstar - Post Malone\n",
      "Rock Your Body - Justin Timberlake\n",
      "Rocky Road to Dublin - Jack O'Connell\n",
      "Rocket Man (I Think It's Going To Be A Long, Long Time) - Elton John\n",
      "Rockstar - Nickelback\n",
      "ROCKSTAR - DaBaby\n",
      "ROCKSTAR - Junior H\n",
      "Rock the Casbah (Remastered) - The Clash\n",
      "Rock And Roll All Nite - Kiss\n",
      "Rock You Like a Hurricane (2015 - Remaster) - Scorpions\n",
      "Rockabye (feat. Sean Paul & Anne-Marie) - Clean Bandit\n",
      "Rock This Party (Everybody Dance Now) - Bob Sinclar\n",
      "Rock with You (Single Version) - Michael Jackson\n",
      "Rockin' in the Free World - Neil Young\n",
      "Rock You Like a Hurricane (2011) - Scorpions\n",
      "Rock My Body - R3HAB\n",
      "Somebody's Watching Me - Rockwell\n",
      "Rock Your Baby - George McCrae\n",
      "Rock N Roll Train - AC/DC\n",
      "Rock & Roll Band - Boston\n",
      "Rock and Roll (Remaster) - Led Zeppelin\n",
      "Rockstar - LISA\n",
      "Rock - Stepz\n",
      "Rock Is Dead - Marilyn Manson\n",
      "Rock 'n' Roll (Part 2) - Gary Glitter\n"
     ]
    }
   ],
   "source": [
    "# Playlist a partir de una palabra clave (usando la API de Deezer)\n",
    "\n",
    "import requests\n",
    "\n",
    "print(\"Lista de Reproducción\\n\")\n",
    "\n",
    "# Instrucciones para el usuario\n",
    "print(\"Ingresa la palabra que te gustaría:\")\n",
    "print(\"Ejemplo: 'rock', y obtendrás un playlist de canciones o artistas que incluyan la palabra rock\")\n",
    "\n",
    "# Entrada del usuario\n",
    "word_to_search = input(\"Palabra clave: \")\n",
    "\n",
    "# Preparación de la solicitud\n",
    "url = \"https://deezerdevs-deezer.p.rapidapi.com/search\"\n",
    "querystring = {\"q\": word_to_search}\n",
    "headers = {\n",
    "    \"X-RapidAPI-Key\": \"3ed98f551fmshe4e6260228c4eadp13db17jsn8c893e1194da\",\n",
    "    \"X-RapidAPI-Host\": \"deezerdevs-deezer.p.rapidapi.com\"\n",
    "}\n",
    "\n",
    "# Petición a la API\n",
    "response = requests.get(url, headers=headers, params=querystring).json()\n",
    "\n",
    "# Uso de list comprehension para construir una lista de diccionarios\n",
    "my_list = [\n",
    "    {\"canción\": element[\"title\"], \"artista\": element[\"artist\"][\"name\"]}\n",
    "    for element in response.get(\"data\", [])\n",
    "]\n",
    "\n",
    "# Impresión de los resultados\n",
    "print(\"\\nResultados encontrados:\")\n",
    "for item in my_list:\n",
    "    print(f\"{item['canción']} - {item['artista']}\")\n"
   ]
  }
 ],
 "metadata": {
  "kernelspec": {
   "display_name": "Python 3 (ipykernel)",
   "language": "python",
   "name": "python3"
  },
  "language_info": {
   "codemirror_mode": {
    "name": "ipython",
    "version": 3
   },
   "file_extension": ".py",
   "mimetype": "text/x-python",
   "name": "python",
   "nbconvert_exporter": "python",
   "pygments_lexer": "ipython3",
   "version": "3.12.0"
  }
 },
 "nbformat": 4,
 "nbformat_minor": 5
}
